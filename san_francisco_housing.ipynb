{
 "cells": [
  {
   "cell_type": "markdown",
   "metadata": {},
   "source": [
    "# Housing Rental Analysis for San Francisco\n",
    "\n",
    "In this challenge, your job is to use your data visualization superpowers, including aggregation, interactive visualizations, and geospatial analysis, to find properties in the San Francisco market that are viable investment opportunities.\n",
    "\n",
    "Instructions:\n",
    "\n",
    "Use the `san_francisco_housing.ipynb` notebook to visualize and analyze the real-estate data.\n",
    "\n",
    "Note that this assignment requires you to create a visualization by using the integration between Plotly and the Mapbox API. Be sure to create your environment file (`.env`) and include your Mapbox API access token. Then import your Mapbox API access token into the `san_francisco_housing.ipynb` notebook, and set it by using the `px.set_mapbox_access_token` function.\n",
    "\n",
    "Additionally, you need to read the `sfo_neighborhoods_census_data.csv` file from the `Resources` folder into the notebook and create the DataFrame that you’ll use in the analysis.\n",
    "\n",
    "The main task in this Challenge is to visualize and analyze the real-estate data in your Jupyter notebook. Use the `san_francisco_housing.ipynb` notebook to complete the following tasks:\n",
    "\n",
    "* Calculate and plot the housing units per year.\n",
    "\n",
    "* Calculate and plot the average prices per square foot.\n",
    "\n",
    "* Compare the average prices by neighborhood.\n",
    "\n",
    "* Build an interactive neighborhood map.\n",
    "\n",
    "* Compose your data story.\n",
    "\n",
    "##### Calculate and Plot the Housing Units per Year\n",
    "\n",
    "For this part of the assignment, use numerical and visual aggregation to calculate the number of housing units per year, and then visualize the results as a bar chart. To do so, complete the following steps:\n",
    "\n",
    "1. Use the `groupby` function to group the data by year. Aggregate the results by the `mean` of the groups.\n",
    "\n",
    "2. Use the `hvplot` function to plot the `housing_units_by_year` DataFrame as a bar chart. Make the x-axis represent the `year` and the y-axis represent the `housing_units`.\n",
    "\n",
    "3. Style and format the line plot to ensure a professionally styled visualization.\n",
    "\n",
    "4. Note that your resulting plot should appear similar to the following image:\n",
    "\n",
    "![A screenshot depicts an example of the resulting bar chart.](Images/zoomed-housing-units-by-year.png)\n",
    "\n",
    "5. Answer the following question:\n",
    "\n",
    "    * What’s the overall trend in housing units over the period that you’re analyzing?\n",
    "\n",
    "##### Calculate and Plot the Average Sale Prices per Square Foot\n",
    "\n",
    "For this part of the assignment, use numerical and visual aggregation to calculate the average prices per square foot, and then visualize the results as a bar chart. To do so, complete the following steps:\n",
    "\n",
    "1. Group the data by year, and then average the results. What’s the lowest gross rent that’s reported for the years that the DataFrame includes?\n",
    "\n",
    "2. Create a new DataFrame named `prices_square_foot_by_year` by filtering out the “housing_units” column. The new DataFrame should include the averages per year for only the sale price per square foot and the gross rent.\n",
    "\n",
    "3. Use hvPlot to plot the `prices_square_foot_by_year` DataFrame as a line plot.\n",
    "\n",
    "    > **Hint** This single plot will include lines for both `sale_price_sqr_foot` and `gross_rent`.\n",
    "\n",
    "4. Style and format the line plot to ensure a professionally styled visualization.\n",
    "\n",
    "5. Note that your resulting plot should appear similar to the following image:\n",
    "\n",
    "![A screenshot depicts an example of the resulting plot.](Images/avg-sale-px-sq-foot-gross-rent.png)\n",
    "\n",
    "6. Use both the `prices_square_foot_by_year` DataFrame and interactive plots to answer the following questions:\n",
    "\n",
    "    * Did any year experience a drop in the average sale price per square foot compared to the previous year?\n",
    "\n",
    "    * If so, did the gross rent increase or decrease during that year?\n",
    "\n",
    "##### Compare the Average Sale Prices by Neighborhood\n",
    "\n",
    "For this part of the assignment, use interactive visualizations and widgets to explore the average sale price per square foot by neighborhood. To do so, complete the following steps:\n",
    "\n",
    "1. Create a new DataFrame that groups the original DataFrame by year and neighborhood. Aggregate the results by the `mean` of the groups.\n",
    "\n",
    "2. Filter out the “housing_units” column to create a DataFrame that includes only the `sale_price_sqr_foot` and `gross_rent` averages per year.\n",
    "\n",
    "3. Create an interactive line plot with hvPlot that visualizes both `sale_price_sqr_foot` and `gross_rent`. Set the x-axis parameter to the year (`x=\"year\"`). Use the `groupby` parameter to create an interactive widget for `neighborhood`.\n",
    "\n",
    "4. Style and format the line plot to ensure a professionally styled visualization.\n",
    "\n",
    "5. Note that your resulting plot should appear similar to the following image:\n",
    "\n",
    "![A screenshot depicts an example of the resulting plot.](Images/pricing-info-by-neighborhood.png)\n",
    "\n",
    "6. Use the interactive visualization to answer the following question:\n",
    "\n",
    "    * For the Anza Vista neighborhood, is the average sale price per square foot for 2016 more or less than the price that’s listed for 2012? \n",
    "\n",
    "##### Build an Interactive Neighborhood Map\n",
    "\n",
    "For this part of the assignment, explore the geospatial relationships in the data by using interactive visualizations with Plotly and the Mapbox API. To build your map, use the `sfo_data_df` DataFrame (created during the initial import), which includes the neighborhood location data with the average prices. To do all this, complete the following steps:\n",
    "\n",
    "1. Read the `neighborhood_coordinates.csv` file from the `Resources` folder into the notebook, and create a DataFrame named `neighborhood_locations_df`. Be sure to set the `index_col` of the DataFrame as “Neighborhood”.\n",
    "\n",
    "2. Using the original `sfo_data_df` Dataframe, create a DataFrame named `all_neighborhood_info_df` that groups the data by neighborhood. Aggregate the results by the `mean` of the group.\n",
    "\n",
    "3. Review the two code cells that concatenate the `neighborhood_locations_df` DataFrame with the `all_neighborhood_info_df` DataFrame. Note that the first cell uses the [Pandas concat function](https://pandas.pydata.org/pandas-docs/stable/reference/api/pandas.concat.html) to create a DataFrame named `all_neighborhoods_df`. The second cell cleans the data and sets the “Neighborhood” column. Be sure to run these cells to create the `all_neighborhoods_df` DataFrame, which you’ll need to create the geospatial visualization.\n",
    "\n",
    "4. Using Plotly Express, create a `scatter_mapbox` for the `all_neighborhoods_df` DataFrame. Remember that you need your MapBox API key. Be sure to do the following:\n",
    "\n",
    "    * Set the `size` parameter to “sale_price_sqr_foot”.\n",
    "\n",
    "    * Set the `color` parameter to “gross_rent”.\n",
    "\n",
    "    * Set the `size_max` parameter to “25”.\n",
    "\n",
    "    * Set the `zoom` parameter to “11”.\n",
    "\n",
    "5. Style and format the line plot to ensure a professionally styled visualization.\n",
    "\n",
    "6. Note that your resulting plot should appear similar to the following image:\n",
    "\n",
    "![A screenshot depicts an example of a scatter plot created with the Mapbox API.](Images/mapbox-plot.png)\n",
    "\n",
    "7. Use the interactive map to answer the following question:\n",
    "\n",
    "    * Which neighborhood has the highest gross rent, and which has the highest sale price per square foot?\n",
    "\n",
    "##### Compose Your Data Story\n",
    "\n",
    "Based on the visualizations that you created, answer the following questions:\n",
    "\n",
    "* How does the trend in rental income growth compare to the trend in sales prices? Does this same trend hold true for all the neighborhoods across San Francisco?\n",
    "\n",
    "* What insights can you share with your company about the potential one-click, buy-and-rent strategy that they're pursuing? Do neighborhoods exist that you would suggest for investment, and why?"
   ]
  },
  {
   "cell_type": "code",
   "execution_count": 47,
   "metadata": {},
   "outputs": [],
   "source": [
    "# Import the required libraries and dependencies\n",
    "import os\n",
    "import pandas as pd\n",
    "import plotly.express as px\n",
    "import hvplot.pandas\n",
    "from pathlib import Path\n",
    "from dotenv import load_dotenv"
   ]
  },
  {
   "cell_type": "markdown",
   "metadata": {},
   "source": [
    "## Enable your Mapbox API access token"
   ]
  },
  {
   "cell_type": "code",
   "execution_count": 48,
   "metadata": {},
   "outputs": [
    {
     "name": "stdout",
     "output_type": "stream",
     "text": [
      "<class 'str'>\n"
     ]
    }
   ],
   "source": [
    "# Load the .env file into the notebook\n",
    "load_dotenv()\n",
    "\n",
    "# Read in your MAPBOX_API_KEY \n",
    "mapbox_api_access_token = os.getenv(\"MAPBOX_API_ACCESS_TOKEN\")\n",
    "\n",
    "# Confirm the availability of your Mapbox API access token by checking its type\n",
    "print(type(mapbox_api_access_token))\n",
    "\n",
    "# Set your Mapbox API access token\n",
    "px.set_mapbox_access_token(mapbox_api_access_token)"
   ]
  },
  {
   "cell_type": "code",
   "execution_count": 49,
   "metadata": {},
   "outputs": [
    {
     "data": {
      "text/html": [
       "<div>\n",
       "<style scoped>\n",
       "    .dataframe tbody tr th:only-of-type {\n",
       "        vertical-align: middle;\n",
       "    }\n",
       "\n",
       "    .dataframe tbody tr th {\n",
       "        vertical-align: top;\n",
       "    }\n",
       "\n",
       "    .dataframe thead th {\n",
       "        text-align: right;\n",
       "    }\n",
       "</style>\n",
       "<table border=\"1\" class=\"dataframe\">\n",
       "  <thead>\n",
       "    <tr style=\"text-align: right;\">\n",
       "      <th></th>\n",
       "      <th>year</th>\n",
       "      <th>neighborhood</th>\n",
       "      <th>sale_price_sqr_foot</th>\n",
       "      <th>housing_units</th>\n",
       "      <th>gross_rent</th>\n",
       "    </tr>\n",
       "  </thead>\n",
       "  <tbody>\n",
       "    <tr>\n",
       "      <th>0</th>\n",
       "      <td>2010</td>\n",
       "      <td>Alamo Square</td>\n",
       "      <td>291.182945</td>\n",
       "      <td>372560</td>\n",
       "      <td>1239</td>\n",
       "    </tr>\n",
       "    <tr>\n",
       "      <th>1</th>\n",
       "      <td>2010</td>\n",
       "      <td>Anza Vista</td>\n",
       "      <td>267.932583</td>\n",
       "      <td>372560</td>\n",
       "      <td>1239</td>\n",
       "    </tr>\n",
       "    <tr>\n",
       "      <th>2</th>\n",
       "      <td>2010</td>\n",
       "      <td>Bayview</td>\n",
       "      <td>170.098665</td>\n",
       "      <td>372560</td>\n",
       "      <td>1239</td>\n",
       "    </tr>\n",
       "    <tr>\n",
       "      <th>3</th>\n",
       "      <td>2010</td>\n",
       "      <td>Buena Vista Park</td>\n",
       "      <td>347.394919</td>\n",
       "      <td>372560</td>\n",
       "      <td>1239</td>\n",
       "    </tr>\n",
       "    <tr>\n",
       "      <th>4</th>\n",
       "      <td>2010</td>\n",
       "      <td>Central Richmond</td>\n",
       "      <td>319.027623</td>\n",
       "      <td>372560</td>\n",
       "      <td>1239</td>\n",
       "    </tr>\n",
       "  </tbody>\n",
       "</table>\n",
       "</div>"
      ],
      "text/plain": [
       "   year      neighborhood  sale_price_sqr_foot  housing_units  gross_rent\n",
       "0  2010      Alamo Square           291.182945         372560        1239\n",
       "1  2010        Anza Vista           267.932583         372560        1239\n",
       "2  2010           Bayview           170.098665         372560        1239\n",
       "3  2010  Buena Vista Park           347.394919         372560        1239\n",
       "4  2010  Central Richmond           319.027623         372560        1239"
      ]
     },
     "metadata": {},
     "output_type": "display_data"
    },
    {
     "data": {
      "text/html": [
       "<div>\n",
       "<style scoped>\n",
       "    .dataframe tbody tr th:only-of-type {\n",
       "        vertical-align: middle;\n",
       "    }\n",
       "\n",
       "    .dataframe tbody tr th {\n",
       "        vertical-align: top;\n",
       "    }\n",
       "\n",
       "    .dataframe thead th {\n",
       "        text-align: right;\n",
       "    }\n",
       "</style>\n",
       "<table border=\"1\" class=\"dataframe\">\n",
       "  <thead>\n",
       "    <tr style=\"text-align: right;\">\n",
       "      <th></th>\n",
       "      <th>year</th>\n",
       "      <th>neighborhood</th>\n",
       "      <th>sale_price_sqr_foot</th>\n",
       "      <th>housing_units</th>\n",
       "      <th>gross_rent</th>\n",
       "    </tr>\n",
       "  </thead>\n",
       "  <tbody>\n",
       "    <tr>\n",
       "      <th>392</th>\n",
       "      <td>2016</td>\n",
       "      <td>Telegraph Hill</td>\n",
       "      <td>903.049771</td>\n",
       "      <td>384242</td>\n",
       "      <td>4390</td>\n",
       "    </tr>\n",
       "    <tr>\n",
       "      <th>393</th>\n",
       "      <td>2016</td>\n",
       "      <td>Twin Peaks</td>\n",
       "      <td>970.085470</td>\n",
       "      <td>384242</td>\n",
       "      <td>4390</td>\n",
       "    </tr>\n",
       "    <tr>\n",
       "      <th>394</th>\n",
       "      <td>2016</td>\n",
       "      <td>Van Ness/ Civic Center</td>\n",
       "      <td>552.602567</td>\n",
       "      <td>384242</td>\n",
       "      <td>4390</td>\n",
       "    </tr>\n",
       "    <tr>\n",
       "      <th>395</th>\n",
       "      <td>2016</td>\n",
       "      <td>Visitacion Valley</td>\n",
       "      <td>328.319007</td>\n",
       "      <td>384242</td>\n",
       "      <td>4390</td>\n",
       "    </tr>\n",
       "    <tr>\n",
       "      <th>396</th>\n",
       "      <td>2016</td>\n",
       "      <td>Westwood Park</td>\n",
       "      <td>631.195426</td>\n",
       "      <td>384242</td>\n",
       "      <td>4390</td>\n",
       "    </tr>\n",
       "  </tbody>\n",
       "</table>\n",
       "</div>"
      ],
      "text/plain": [
       "     year            neighborhood  sale_price_sqr_foot  housing_units  \\\n",
       "392  2016          Telegraph Hill           903.049771         384242   \n",
       "393  2016              Twin Peaks           970.085470         384242   \n",
       "394  2016  Van Ness/ Civic Center           552.602567         384242   \n",
       "395  2016       Visitacion Valley           328.319007         384242   \n",
       "396  2016           Westwood Park           631.195426         384242   \n",
       "\n",
       "     gross_rent  \n",
       "392        4390  \n",
       "393        4390  \n",
       "394        4390  \n",
       "395        4390  \n",
       "396        4390  "
      ]
     },
     "metadata": {},
     "output_type": "display_data"
    }
   ],
   "source": [
    "## Import the data \n",
    "\n",
    "# Using the read_csv function and Path module, create a DataFrame \n",
    "# by importing the sfo_neighborhoods_census_data.csv file from the Resources folder\n",
    "sfo_data_df = pd.read_csv(\n",
    "    Path(\"./Resources/sfo_neighborhoods_census_data.csv\"),\n",
    ")\n",
    "\n",
    "# Review the first and last five rows of the DataFrame\n",
    "display(sfo_data_df.head())\n",
    "display(sfo_data_df.tail())"
   ]
  },
  {
   "cell_type": "markdown",
   "metadata": {},
   "source": [
    "---"
   ]
  },
  {
   "cell_type": "markdown",
   "metadata": {},
   "source": [
    "## Calculate and Plot the Housing Units per Year\n",
    "\n",
    "For this part of the assignment, use numerical and visual aggregation to calculate the number of housing units per year, and then visualize the results as a bar chart. To do so, complete the following steps:\n",
    "\n",
    "1. Use the `groupby` function to group the data by year. Aggregate the results by the `mean` of the groups.\n",
    "\n",
    "2. Use the `hvplot` function to plot the `housing_units_by_year` DataFrame as a bar chart. Make the x-axis represent the `year` and the y-axis represent the `housing_units`.\n",
    "\n",
    "3. Style and format the line plot to ensure a professionally styled visualization.\n",
    "\n",
    "4. Note that your resulting plot should appear similar to the following image:\n",
    "\n",
    "![A screenshot depicts an example of the resulting bar chart.](Images/zoomed-housing-units-by-year.png)\n",
    "\n",
    "5. Answer the following question:\n",
    "\n",
    "    * What’s the overall trend in housing units over the period that you’re analyzing?\n",
    "\n"
   ]
  },
  {
   "cell_type": "markdown",
   "metadata": {},
   "source": [
    "### Step 1: Use the `groupby` function to group the data by year. Aggregate the results by the `mean` of the groups."
   ]
  },
  {
   "cell_type": "code",
   "execution_count": 50,
   "metadata": {},
   "outputs": [
    {
     "data": {
      "text/html": [
       "<div>\n",
       "<style scoped>\n",
       "    .dataframe tbody tr th:only-of-type {\n",
       "        vertical-align: middle;\n",
       "    }\n",
       "\n",
       "    .dataframe tbody tr th {\n",
       "        vertical-align: top;\n",
       "    }\n",
       "\n",
       "    .dataframe thead th {\n",
       "        text-align: right;\n",
       "    }\n",
       "</style>\n",
       "<table border=\"1\" class=\"dataframe\">\n",
       "  <thead>\n",
       "    <tr style=\"text-align: right;\">\n",
       "      <th></th>\n",
       "      <th>sale_price_sqr_foot</th>\n",
       "      <th>housing_units</th>\n",
       "      <th>gross_rent</th>\n",
       "    </tr>\n",
       "    <tr>\n",
       "      <th>year</th>\n",
       "      <th></th>\n",
       "      <th></th>\n",
       "      <th></th>\n",
       "    </tr>\n",
       "  </thead>\n",
       "  <tbody>\n",
       "    <tr>\n",
       "      <th>2010</th>\n",
       "      <td>369.344353</td>\n",
       "      <td>372560</td>\n",
       "      <td>1239</td>\n",
       "    </tr>\n",
       "    <tr>\n",
       "      <th>2011</th>\n",
       "      <td>341.903429</td>\n",
       "      <td>374507</td>\n",
       "      <td>1530</td>\n",
       "    </tr>\n",
       "    <tr>\n",
       "      <th>2012</th>\n",
       "      <td>399.389968</td>\n",
       "      <td>376454</td>\n",
       "      <td>2324</td>\n",
       "    </tr>\n",
       "    <tr>\n",
       "      <th>2013</th>\n",
       "      <td>483.600304</td>\n",
       "      <td>378401</td>\n",
       "      <td>2971</td>\n",
       "    </tr>\n",
       "    <tr>\n",
       "      <th>2014</th>\n",
       "      <td>556.277273</td>\n",
       "      <td>380348</td>\n",
       "      <td>3528</td>\n",
       "    </tr>\n",
       "    <tr>\n",
       "      <th>2015</th>\n",
       "      <td>632.540352</td>\n",
       "      <td>382295</td>\n",
       "      <td>3739</td>\n",
       "    </tr>\n",
       "    <tr>\n",
       "      <th>2016</th>\n",
       "      <td>697.643709</td>\n",
       "      <td>384242</td>\n",
       "      <td>4390</td>\n",
       "    </tr>\n",
       "  </tbody>\n",
       "</table>\n",
       "</div>"
      ],
      "text/plain": [
       "      sale_price_sqr_foot  housing_units  gross_rent\n",
       "year                                                \n",
       "2010           369.344353         372560        1239\n",
       "2011           341.903429         374507        1530\n",
       "2012           399.389968         376454        2324\n",
       "2013           483.600304         378401        2971\n",
       "2014           556.277273         380348        3528\n",
       "2015           632.540352         382295        3739\n",
       "2016           697.643709         384242        4390"
      ]
     },
     "execution_count": 50,
     "metadata": {},
     "output_type": "execute_result"
    }
   ],
   "source": [
    "# Create a numerical aggregation that groups the data by the year and then averages the results.\n",
    "housing_units_by_year = sfo_data_df.groupby(\"year\").mean()\n",
    "\n",
    "# Review the DataFrame\n",
    "housing_units_by_year\n"
   ]
  },
  {
   "cell_type": "markdown",
   "metadata": {},
   "source": [
    "### Step 2: Use the `hvplot` function to plot the `housing_units_by_year` DataFrame as a bar chart. Make the x-axis represent the `year` and the y-axis represent the `housing_units`.\n",
    "\n",
    "### Step 3: Style and format the line plot to ensure a professionally styled visualization."
   ]
  },
  {
   "cell_type": "code",
   "execution_count": 51,
   "metadata": {},
   "outputs": [
    {
     "data": {},
     "metadata": {},
     "output_type": "display_data"
    },
    {
     "data": {
      "application/vnd.holoviews_exec.v0+json": "",
      "text/html": [
       "<div id='5882'>\n",
       "\n",
       "\n",
       "\n",
       "\n",
       "\n",
       "  <div class=\"bk-root\" id=\"912abadf-fe16-4abd-9a54-db711885a666\" data-root-id=\"5882\"></div>\n",
       "</div>\n",
       "<script type=\"application/javascript\">(function(root) {\n",
       "  function embed_document(root) {\n",
       "    var docs_json = {\"537b45a1-50c3-4afc-997a-09cfb0ac3e8e\":{\"defs\":[],\"roots\":{\"references\":[{\"attributes\":{},\"id\":\"5904\",\"type\":\"PanTool\"},{\"attributes\":{\"fill_alpha\":{\"value\":0.1},\"fill_color\":{\"value\":\"#30a2da\"},\"line_alpha\":{\"value\":0.1},\"top\":{\"field\":\"housing_units\"},\"width\":{\"value\":0.8},\"x\":{\"field\":\"year\"}},\"id\":\"5920\",\"type\":\"VBar\"},{\"attributes\":{},\"id\":\"5907\",\"type\":\"ResetTool\"},{\"attributes\":{\"data_source\":{\"id\":\"5916\"},\"glyph\":{\"id\":\"5919\"},\"hover_glyph\":null,\"muted_glyph\":{\"id\":\"5921\"},\"nonselection_glyph\":{\"id\":\"5920\"},\"selection_glyph\":{\"id\":\"5924\"},\"view\":{\"id\":\"5923\"}},\"id\":\"5922\",\"type\":\"GlyphRenderer\"},{\"attributes\":{},\"id\":\"5905\",\"type\":\"WheelZoomTool\"},{\"attributes\":{\"axis\":{\"id\":\"5896\"},\"grid_line_color\":null,\"ticker\":null},\"id\":\"5898\",\"type\":\"Grid\"},{\"attributes\":{\"source\":{\"id\":\"5916\"}},\"id\":\"5923\",\"type\":\"CDSView\"},{\"attributes\":{\"text\":\"Average San Francisco Housing Units 2010-2016\",\"text_color\":\"black\",\"text_font_size\":\"12pt\"},\"id\":\"5888\",\"type\":\"Title\"},{\"attributes\":{},\"id\":\"5926\",\"type\":\"CategoricalTickFormatter\"},{\"attributes\":{\"overlay\":{\"id\":\"5908\"}},\"id\":\"5906\",\"type\":\"BoxZoomTool\"},{\"attributes\":{\"axis_label\":\"Year\",\"formatter\":{\"id\":\"5926\"},\"major_label_orientation\":0.7853981633974483,\"major_label_policy\":{\"id\":\"5927\"},\"ticker\":{\"id\":\"5897\"}},\"id\":\"5896\",\"type\":\"CategoricalAxis\"},{\"attributes\":{},\"id\":\"5892\",\"type\":\"CategoricalScale\"},{\"attributes\":{\"end\":385410.2,\"reset_end\":385410.2,\"reset_start\":0.0,\"tags\":[[[\"housing_units\",\"housing_units\",null]]]},\"id\":\"5885\",\"type\":\"Range1d\"},{\"attributes\":{},\"id\":\"5927\",\"type\":\"AllLabels\"},{\"attributes\":{\"children\":[{\"id\":\"5883\"},{\"id\":\"5887\"},{\"id\":\"5952\"}],\"margin\":[0,0,0,0],\"name\":\"Row18697\",\"tags\":[\"embedded\"]},\"id\":\"5882\",\"type\":\"Row\"},{\"attributes\":{\"format\":\"%.0f\"},\"id\":\"5925\",\"type\":\"PrintfTickFormatter\"},{\"attributes\":{\"below\":[{\"id\":\"5896\"}],\"center\":[{\"id\":\"5898\"},{\"id\":\"5902\"}],\"height\":300,\"left\":[{\"id\":\"5899\"}],\"margin\":[5,5,5,5],\"min_border_bottom\":10,\"min_border_left\":10,\"min_border_right\":10,\"min_border_top\":10,\"renderers\":[{\"id\":\"5922\"}],\"sizing_mode\":\"fixed\",\"title\":{\"id\":\"5888\"},\"toolbar\":{\"id\":\"5909\"},\"width\":700,\"x_range\":{\"id\":\"5884\"},\"x_scale\":{\"id\":\"5892\"},\"y_range\":{\"id\":\"5885\"},\"y_scale\":{\"id\":\"5894\"}},\"id\":\"5887\",\"subtype\":\"Figure\",\"type\":\"Plot\"},{\"attributes\":{},\"id\":\"5894\",\"type\":\"LinearScale\"},{\"attributes\":{},\"id\":\"5897\",\"type\":\"CategoricalTicker\"},{\"attributes\":{},\"id\":\"5940\",\"type\":\"UnionRenderers\"},{\"attributes\":{\"bottom\":{\"value\":0},\"fill_alpha\":{\"value\":1.0},\"fill_color\":{\"value\":\"#30a2da\"},\"hatch_alpha\":{\"value\":1.0},\"hatch_color\":{\"value\":\"black\"},\"hatch_scale\":{\"value\":12.0},\"hatch_weight\":{\"value\":1.0},\"line_alpha\":{\"value\":1.0},\"line_cap\":{\"value\":\"butt\"},\"line_color\":{\"value\":\"black\"},\"line_dash\":{\"value\":[]},\"line_dash_offset\":{\"value\":0},\"line_join\":{\"value\":\"bevel\"},\"line_width\":{\"value\":1},\"top\":{\"field\":\"housing_units\"},\"width\":{\"value\":0.8},\"x\":{\"field\":\"year\"}},\"id\":\"5924\",\"type\":\"VBar\"},{\"attributes\":{\"axis\":{\"id\":\"5899\"},\"dimension\":1,\"grid_line_color\":null,\"ticker\":null},\"id\":\"5902\",\"type\":\"Grid\"},{\"attributes\":{\"margin\":[5,5,5,5],\"name\":\"HSpacer18701\",\"sizing_mode\":\"stretch_width\"},\"id\":\"5883\",\"type\":\"Spacer\"},{\"attributes\":{\"callback\":null,\"renderers\":[{\"id\":\"5922\"}],\"tags\":[\"hv_created\"],\"tooltips\":[[\"year\",\"@{year}\"],[\"housing_units\",\"@{housing_units}\"]]},\"id\":\"5886\",\"type\":\"HoverTool\"},{\"attributes\":{},\"id\":\"5900\",\"type\":\"BasicTicker\"},{\"attributes\":{\"margin\":[5,5,5,5],\"name\":\"HSpacer18702\",\"sizing_mode\":\"stretch_width\"},\"id\":\"5952\",\"type\":\"Spacer\"},{\"attributes\":{\"axis_label\":\"Housing Units\",\"formatter\":{\"id\":\"5925\"},\"major_label_policy\":{\"id\":\"5929\"},\"ticker\":{\"id\":\"5900\"}},\"id\":\"5899\",\"type\":\"LinearAxis\"},{\"attributes\":{},\"id\":\"5929\",\"type\":\"AllLabels\"},{\"attributes\":{\"active_multi\":null,\"tools\":[{\"id\":\"5886\"},{\"id\":\"5903\"},{\"id\":\"5904\"},{\"id\":\"5905\"},{\"id\":\"5906\"},{\"id\":\"5907\"}]},\"id\":\"5909\",\"type\":\"Toolbar\"},{\"attributes\":{\"fill_alpha\":{\"value\":0.2},\"fill_color\":{\"value\":\"#30a2da\"},\"line_alpha\":{\"value\":0.2},\"top\":{\"field\":\"housing_units\"},\"width\":{\"value\":0.8},\"x\":{\"field\":\"year\"}},\"id\":\"5921\",\"type\":\"VBar\"},{\"attributes\":{},\"id\":\"5903\",\"type\":\"SaveTool\"},{\"attributes\":{\"bottom_units\":\"screen\",\"fill_alpha\":0.5,\"fill_color\":\"lightgrey\",\"left_units\":\"screen\",\"level\":\"overlay\",\"line_alpha\":1.0,\"line_color\":\"black\",\"line_dash\":[4,4],\"line_width\":2,\"right_units\":\"screen\",\"syncable\":false,\"top_units\":\"screen\"},\"id\":\"5908\",\"type\":\"BoxAnnotation\"},{\"attributes\":{},\"id\":\"5917\",\"type\":\"Selection\"},{\"attributes\":{\"factors\":[\"2010\",\"2011\",\"2012\",\"2013\",\"2014\",\"2015\",\"2016\"],\"tags\":[[[\"year\",\"year\",null]]]},\"id\":\"5884\",\"type\":\"FactorRange\"},{\"attributes\":{\"fill_color\":{\"value\":\"#30a2da\"},\"top\":{\"field\":\"housing_units\"},\"width\":{\"value\":0.8},\"x\":{\"field\":\"year\"}},\"id\":\"5919\",\"type\":\"VBar\"},{\"attributes\":{\"data\":{\"housing_units\":[372560,374507,376454,378401,380348,382295,384242],\"year\":[\"2010\",\"2011\",\"2012\",\"2013\",\"2014\",\"2015\",\"2016\"]},\"selected\":{\"id\":\"5917\"},\"selection_policy\":{\"id\":\"5940\"}},\"id\":\"5916\",\"type\":\"ColumnDataSource\"}],\"root_ids\":[\"5882\"]},\"title\":\"Bokeh Application\",\"version\":\"2.3.2\"}};\n",
       "    var render_items = [{\"docid\":\"537b45a1-50c3-4afc-997a-09cfb0ac3e8e\",\"root_ids\":[\"5882\"],\"roots\":{\"5882\":\"912abadf-fe16-4abd-9a54-db711885a666\"}}];\n",
       "    root.Bokeh.embed.embed_items_notebook(docs_json, render_items);\n",
       "  }\n",
       "  if (root.Bokeh !== undefined && root.Bokeh.Panel !== undefined) {\n",
       "    embed_document(root);\n",
       "  } else {\n",
       "    var attempts = 0;\n",
       "    var timer = setInterval(function(root) {\n",
       "      if (root.Bokeh !== undefined && root.Bokeh.Panel !== undefined) {\n",
       "        clearInterval(timer);\n",
       "        embed_document(root);\n",
       "      } else if (document.readyState == \"complete\") {\n",
       "        attempts++;\n",
       "        if (attempts > 100) {\n",
       "          clearInterval(timer);\n",
       "          console.log(\"Bokeh: ERROR: Unable to run BokehJS code because BokehJS library is missing\");\n",
       "        }\n",
       "      }\n",
       "    }, 10, root)\n",
       "  }\n",
       "})(window);</script>"
      ],
      "text/plain": [
       ":Bars   [year]   (housing_units)"
      ]
     },
     "execution_count": 51,
     "metadata": {
      "application/vnd.holoviews_exec.v0+json": {
       "id": "5882"
      }
     },
     "output_type": "execute_result"
    }
   ],
   "source": [
    "# Create a visual aggregation explore the housing units by year\n",
    "housing_units_by_year.hvplot.bar(\n",
    "    x=\"year\",\n",
    "    y=\"housing_units\",\n",
    "    xlabel=\"Year\",\n",
    "    ylabel=\"Housing Units\",\n",
    "    title=\"Average San Francisco Housing Units 2010-2016\",\n",
    "    rot=45\n",
    ").opts(yformatter=\"%.0f\")\n"
   ]
  },
  {
   "cell_type": "markdown",
   "metadata": {},
   "source": [
    "### Step 5: Answer the following question:"
   ]
  },
  {
   "cell_type": "markdown",
   "metadata": {},
   "source": [
    "**Question** What is the overall trend in housing_units over the period being analyzed?\n",
    "\n",
    "**Answer** This graph shows that the average number of units showed nearly no change year to year in San Francisco."
   ]
  },
  {
   "cell_type": "markdown",
   "metadata": {},
   "source": [
    "---"
   ]
  },
  {
   "cell_type": "markdown",
   "metadata": {},
   "source": [
    "## Calculate and Plot the Average Sale Prices per Square Foot\n",
    "\n",
    "For this part of the assignment, use numerical and visual aggregation to calculate the average prices per square foot, and then visualize the results as a bar chart. To do so, complete the following steps:\n",
    "\n",
    "1. Group the data by year, and then average the results. What’s the lowest gross rent that’s reported for the years that the DataFrame includes?\n",
    "\n",
    "2. Create a new DataFrame named `prices_square_foot_by_year` by filtering out the “housing_units” column. The new DataFrame should include the averages per year for only the sale price per square foot and the gross rent.\n",
    "\n",
    "3. Use hvPlot to plot the `prices_square_foot_by_year` DataFrame as a line plot.\n",
    "\n",
    "    > **Hint** This single plot will include lines for both `sale_price_sqr_foot` and `gross_rent`.\n",
    "\n",
    "4. Style and format the line plot to ensure a professionally styled visualization.\n",
    "\n",
    "5. Note that your resulting plot should appear similar to the following image:\n",
    "\n",
    "![A screenshot depicts an example of the resulting plot.](Images/avg-sale-px-sq-foot-gross-rent.png)\n",
    "\n",
    "6. Use both the `prices_square_foot_by_year` DataFrame and interactive plots to answer the following questions:\n",
    "\n",
    "    * Did any year experience a drop in the average sale price per square foot compared to the previous year?\n",
    "\n",
    "    * If so, did the gross rent increase or decrease during that year?\n",
    "\n"
   ]
  },
  {
   "cell_type": "markdown",
   "metadata": {},
   "source": [
    "### Step 1: Group the data by year, and then average the results."
   ]
  },
  {
   "cell_type": "code",
   "execution_count": 52,
   "metadata": {},
   "outputs": [
    {
     "data": {
      "text/html": [
       "<div>\n",
       "<style scoped>\n",
       "    .dataframe tbody tr th:only-of-type {\n",
       "        vertical-align: middle;\n",
       "    }\n",
       "\n",
       "    .dataframe tbody tr th {\n",
       "        vertical-align: top;\n",
       "    }\n",
       "\n",
       "    .dataframe thead th {\n",
       "        text-align: right;\n",
       "    }\n",
       "</style>\n",
       "<table border=\"1\" class=\"dataframe\">\n",
       "  <thead>\n",
       "    <tr style=\"text-align: right;\">\n",
       "      <th></th>\n",
       "      <th>sale_price_sqr_foot</th>\n",
       "      <th>housing_units</th>\n",
       "      <th>gross_rent</th>\n",
       "    </tr>\n",
       "    <tr>\n",
       "      <th>year</th>\n",
       "      <th></th>\n",
       "      <th></th>\n",
       "      <th></th>\n",
       "    </tr>\n",
       "  </thead>\n",
       "  <tbody>\n",
       "    <tr>\n",
       "      <th>2010</th>\n",
       "      <td>369.344353</td>\n",
       "      <td>372560</td>\n",
       "      <td>1239</td>\n",
       "    </tr>\n",
       "    <tr>\n",
       "      <th>2011</th>\n",
       "      <td>341.903429</td>\n",
       "      <td>374507</td>\n",
       "      <td>1530</td>\n",
       "    </tr>\n",
       "    <tr>\n",
       "      <th>2012</th>\n",
       "      <td>399.389968</td>\n",
       "      <td>376454</td>\n",
       "      <td>2324</td>\n",
       "    </tr>\n",
       "    <tr>\n",
       "      <th>2013</th>\n",
       "      <td>483.600304</td>\n",
       "      <td>378401</td>\n",
       "      <td>2971</td>\n",
       "    </tr>\n",
       "    <tr>\n",
       "      <th>2014</th>\n",
       "      <td>556.277273</td>\n",
       "      <td>380348</td>\n",
       "      <td>3528</td>\n",
       "    </tr>\n",
       "    <tr>\n",
       "      <th>2015</th>\n",
       "      <td>632.540352</td>\n",
       "      <td>382295</td>\n",
       "      <td>3739</td>\n",
       "    </tr>\n",
       "    <tr>\n",
       "      <th>2016</th>\n",
       "      <td>697.643709</td>\n",
       "      <td>384242</td>\n",
       "      <td>4390</td>\n",
       "    </tr>\n",
       "  </tbody>\n",
       "</table>\n",
       "</div>"
      ],
      "text/plain": [
       "      sale_price_sqr_foot  housing_units  gross_rent\n",
       "year                                                \n",
       "2010           369.344353         372560        1239\n",
       "2011           341.903429         374507        1530\n",
       "2012           399.389968         376454        2324\n",
       "2013           483.600304         378401        2971\n",
       "2014           556.277273         380348        3528\n",
       "2015           632.540352         382295        3739\n",
       "2016           697.643709         384242        4390"
      ]
     },
     "execution_count": 52,
     "metadata": {},
     "output_type": "execute_result"
    }
   ],
   "source": [
    "# Create a numerical aggregation by grouping the data by year and averaging the results\n",
    "prices_square_foot_by_year = sfo_data_df.groupby(\"year\").mean()\n",
    "\n",
    "# Review the resulting DataFrame\n",
    "prices_square_foot_by_year\n"
   ]
  },
  {
   "cell_type": "markdown",
   "metadata": {},
   "source": [
    "**Question** What is the lowest gross rent reported for the years included in the DataFrame?\n",
    "\n",
    "**Answer** The lowest gross rent is \"1239\" from the first reported year, 2010."
   ]
  },
  {
   "cell_type": "markdown",
   "metadata": {},
   "source": [
    "### Step 2: Create a new DataFrame named `prices_square_foot_by_year` by filtering out the “housing_units” column. The new DataFrame should include the averages per year for only the sale price per square foot and the gross rent."
   ]
  },
  {
   "cell_type": "code",
   "execution_count": 53,
   "metadata": {},
   "outputs": [
    {
     "data": {
      "text/html": [
       "<div>\n",
       "<style scoped>\n",
       "    .dataframe tbody tr th:only-of-type {\n",
       "        vertical-align: middle;\n",
       "    }\n",
       "\n",
       "    .dataframe tbody tr th {\n",
       "        vertical-align: top;\n",
       "    }\n",
       "\n",
       "    .dataframe thead th {\n",
       "        text-align: right;\n",
       "    }\n",
       "</style>\n",
       "<table border=\"1\" class=\"dataframe\">\n",
       "  <thead>\n",
       "    <tr style=\"text-align: right;\">\n",
       "      <th></th>\n",
       "      <th>sale_price_sqr_foot</th>\n",
       "      <th>gross_rent</th>\n",
       "    </tr>\n",
       "    <tr>\n",
       "      <th>year</th>\n",
       "      <th></th>\n",
       "      <th></th>\n",
       "    </tr>\n",
       "  </thead>\n",
       "  <tbody>\n",
       "    <tr>\n",
       "      <th>2010</th>\n",
       "      <td>369.344353</td>\n",
       "      <td>1239</td>\n",
       "    </tr>\n",
       "    <tr>\n",
       "      <th>2011</th>\n",
       "      <td>341.903429</td>\n",
       "      <td>1530</td>\n",
       "    </tr>\n",
       "    <tr>\n",
       "      <th>2012</th>\n",
       "      <td>399.389968</td>\n",
       "      <td>2324</td>\n",
       "    </tr>\n",
       "    <tr>\n",
       "      <th>2013</th>\n",
       "      <td>483.600304</td>\n",
       "      <td>2971</td>\n",
       "    </tr>\n",
       "    <tr>\n",
       "      <th>2014</th>\n",
       "      <td>556.277273</td>\n",
       "      <td>3528</td>\n",
       "    </tr>\n",
       "    <tr>\n",
       "      <th>2015</th>\n",
       "      <td>632.540352</td>\n",
       "      <td>3739</td>\n",
       "    </tr>\n",
       "    <tr>\n",
       "      <th>2016</th>\n",
       "      <td>697.643709</td>\n",
       "      <td>4390</td>\n",
       "    </tr>\n",
       "  </tbody>\n",
       "</table>\n",
       "</div>"
      ],
      "text/plain": [
       "      sale_price_sqr_foot  gross_rent\n",
       "year                                 \n",
       "2010           369.344353        1239\n",
       "2011           341.903429        1530\n",
       "2012           399.389968        2324\n",
       "2013           483.600304        2971\n",
       "2014           556.277273        3528\n",
       "2015           632.540352        3739\n",
       "2016           697.643709        4390"
      ]
     },
     "execution_count": 53,
     "metadata": {},
     "output_type": "execute_result"
    }
   ],
   "source": [
    "# Filter out the housing_units column, creating a new DataFrame \n",
    "# Keep only sale_price_sqr_foot and gross_rent averages per year\n",
    "prices_square_foot_by_year = prices_square_foot_by_year.drop(\"housing_units\", 1)\n",
    "\n",
    "# Review the DataFrame\n",
    "prices_square_foot_by_year\n"
   ]
  },
  {
   "cell_type": "markdown",
   "metadata": {},
   "source": [
    "### Step 3: Use hvPlot to plot the `prices_square_foot_by_year` DataFrame as a line plot.\n",
    "\n",
    "> **Hint** This single plot will include lines for both `sale_price_sqr_foot` and `gross_rent`\n",
    "\n",
    "### Step 4: Style and format the line plot to ensure a professionally styled visualization.\n"
   ]
  },
  {
   "cell_type": "code",
   "execution_count": 54,
   "metadata": {},
   "outputs": [
    {
     "data": {},
     "metadata": {},
     "output_type": "display_data"
    },
    {
     "data": {
      "application/vnd.holoviews_exec.v0+json": "",
      "text/html": [
       "<div id='5999'>\n",
       "\n",
       "\n",
       "\n",
       "\n",
       "\n",
       "  <div class=\"bk-root\" id=\"30ccb27c-09c8-4b66-9541-b5ddf80b4e73\" data-root-id=\"5999\"></div>\n",
       "</div>\n",
       "<script type=\"application/javascript\">(function(root) {\n",
       "  function embed_document(root) {\n",
       "    var docs_json = {\"0951ed92-1735-498a-8a76-c14e20f9c0c5\":{\"defs\":[],\"roots\":{\"references\":[{\"attributes\":{},\"id\":\"6012\",\"type\":\"LinearScale\"},{\"attributes\":{\"axis_label\":\"Gross Rent / Sale Price Per Square Foot\",\"formatter\":{\"id\":\"6039\"},\"major_label_policy\":{\"id\":\"6038\"},\"ticker\":{\"id\":\"6019\"}},\"id\":\"6018\",\"type\":\"LinearAxis\"},{\"attributes\":{},\"id\":\"6056\",\"type\":\"UnionRenderers\"},{\"attributes\":{\"axis_label\":\"Year\",\"formatter\":{\"id\":\"6036\"},\"major_label_orientation\":0.7853981633974483,\"major_label_policy\":{\"id\":\"6035\"},\"ticker\":{\"id\":\"6015\"}},\"id\":\"6014\",\"type\":\"LinearAxis\"},{\"attributes\":{\"source\":{\"id\":\"6062\"}},\"id\":\"6069\",\"type\":\"CDSView\"},{\"attributes\":{\"margin\":[5,5,5,5],\"name\":\"HSpacer18873\",\"sizing_mode\":\"stretch_width\"},\"id\":\"6000\",\"type\":\"Spacer\"},{\"attributes\":{\"line_alpha\":0.2,\"line_color\":\"#30a2da\",\"line_width\":2,\"x\":{\"field\":\"year\"},\"y\":{\"field\":\"value\"}},\"id\":\"6046\",\"type\":\"Line\"},{\"attributes\":{\"data_source\":{\"id\":\"6041\"},\"glyph\":{\"id\":\"6044\"},\"hover_glyph\":null,\"muted_glyph\":{\"id\":\"6046\"},\"nonselection_glyph\":{\"id\":\"6045\"},\"selection_glyph\":{\"id\":\"6061\"},\"view\":{\"id\":\"6048\"}},\"id\":\"6047\",\"type\":\"GlyphRenderer\"},{\"attributes\":{\"line_alpha\":0.2,\"line_color\":\"#fc4f30\",\"line_width\":2,\"x\":{\"field\":\"year\"},\"y\":{\"field\":\"value\"}},\"id\":\"6067\",\"type\":\"Line\"},{\"attributes\":{},\"id\":\"6015\",\"type\":\"BasicTicker\"},{\"attributes\":{\"line_alpha\":0.1,\"line_color\":\"#30a2da\",\"line_width\":2,\"x\":{\"field\":\"year\"},\"y\":{\"field\":\"value\"}},\"id\":\"6045\",\"type\":\"Line\"},{\"attributes\":{},\"id\":\"6019\",\"type\":\"BasicTicker\"},{\"attributes\":{\"axis\":{\"id\":\"6018\"},\"dimension\":1,\"grid_line_color\":null,\"ticker\":null},\"id\":\"6021\",\"type\":\"Grid\"},{\"attributes\":{\"active_multi\":null,\"tools\":[{\"id\":\"6003\"},{\"id\":\"6022\"},{\"id\":\"6023\"},{\"id\":\"6024\"},{\"id\":\"6025\"},{\"id\":\"6026\"}]},\"id\":\"6028\",\"type\":\"Toolbar\"},{\"attributes\":{\"line_alpha\":0.1,\"line_color\":\"#fc4f30\",\"line_width\":2,\"x\":{\"field\":\"year\"},\"y\":{\"field\":\"value\"}},\"id\":\"6066\",\"type\":\"Line\"},{\"attributes\":{},\"id\":\"6039\",\"type\":\"BasicTickFormatter\"},{\"attributes\":{\"line_color\":\"#30a2da\",\"line_width\":2,\"x\":{\"field\":\"year\"},\"y\":{\"field\":\"value\"}},\"id\":\"6044\",\"type\":\"Line\"},{\"attributes\":{\"line_color\":\"#fc4f30\",\"line_width\":2,\"x\":{\"field\":\"year\"},\"y\":{\"field\":\"value\"}},\"id\":\"6065\",\"type\":\"Line\"},{\"attributes\":{\"bottom_units\":\"screen\",\"fill_alpha\":0.5,\"fill_color\":\"lightgrey\",\"left_units\":\"screen\",\"level\":\"overlay\",\"line_alpha\":1.0,\"line_color\":\"black\",\"line_dash\":[4,4],\"line_width\":2,\"right_units\":\"screen\",\"syncable\":false,\"top_units\":\"screen\"},\"id\":\"6027\",\"type\":\"BoxAnnotation\"},{\"attributes\":{\"data_source\":{\"id\":\"6062\"},\"glyph\":{\"id\":\"6065\"},\"hover_glyph\":null,\"muted_glyph\":{\"id\":\"6067\"},\"nonselection_glyph\":{\"id\":\"6066\"},\"selection_glyph\":{\"id\":\"6083\"},\"view\":{\"id\":\"6069\"}},\"id\":\"6068\",\"type\":\"GlyphRenderer\"},{\"attributes\":{\"source\":{\"id\":\"6041\"}},\"id\":\"6048\",\"type\":\"CDSView\"},{\"attributes\":{},\"id\":\"6063\",\"type\":\"Selection\"},{\"attributes\":{},\"id\":\"6038\",\"type\":\"AllLabels\"},{\"attributes\":{\"end\":4794.80965708199,\"reset_end\":4794.80965708199,\"reset_start\":-62.9062279018836,\"start\":-62.9062279018836,\"tags\":[[[\"value\",\"value\",null]]]},\"id\":\"6002\",\"type\":\"Range1d\"},{\"attributes\":{\"below\":[{\"id\":\"6014\"}],\"center\":[{\"id\":\"6017\"},{\"id\":\"6021\"}],\"height\":500,\"left\":[{\"id\":\"6018\"}],\"margin\":[5,5,5,5],\"min_border_bottom\":10,\"min_border_left\":10,\"min_border_right\":10,\"min_border_top\":10,\"renderers\":[{\"id\":\"6047\"},{\"id\":\"6068\"}],\"right\":[{\"id\":\"6059\"}],\"sizing_mode\":\"fixed\",\"title\":{\"id\":\"6006\"},\"toolbar\":{\"id\":\"6028\"},\"width\":1000,\"x_range\":{\"id\":\"6001\"},\"x_scale\":{\"id\":\"6010\"},\"y_range\":{\"id\":\"6002\"},\"y_scale\":{\"id\":\"6012\"}},\"id\":\"6005\",\"subtype\":\"Figure\",\"type\":\"Plot\"},{\"attributes\":{\"label\":{\"value\":\"sale_price_sqr_foot\"},\"renderers\":[{\"id\":\"6047\"}]},\"id\":\"6060\",\"type\":\"LegendItem\"},{\"attributes\":{},\"id\":\"6079\",\"type\":\"UnionRenderers\"},{\"attributes\":{},\"id\":\"6022\",\"type\":\"SaveTool\"},{\"attributes\":{},\"id\":\"6035\",\"type\":\"AllLabels\"},{\"attributes\":{\"line_color\":\"#fc4f30\",\"line_width\":2,\"x\":{\"field\":\"year\"},\"y\":{\"field\":\"value\"}},\"id\":\"6083\",\"type\":\"Line\"},{\"attributes\":{},\"id\":\"6023\",\"type\":\"PanTool\"},{\"attributes\":{\"end\":2016.0,\"reset_end\":2016.0,\"reset_start\":2010.0,\"start\":2010.0,\"tags\":[[[\"year\",\"year\",null]]]},\"id\":\"6001\",\"type\":\"Range1d\"},{\"attributes\":{},\"id\":\"6026\",\"type\":\"ResetTool\"},{\"attributes\":{\"label\":{\"value\":\"gross_rent\"},\"renderers\":[{\"id\":\"6068\"}]},\"id\":\"6082\",\"type\":\"LegendItem\"},{\"attributes\":{},\"id\":\"6042\",\"type\":\"Selection\"},{\"attributes\":{\"line_color\":\"#30a2da\",\"line_width\":2,\"x\":{\"field\":\"year\"},\"y\":{\"field\":\"value\"}},\"id\":\"6061\",\"type\":\"Line\"},{\"attributes\":{},\"id\":\"6024\",\"type\":\"WheelZoomTool\"},{\"attributes\":{},\"id\":\"6036\",\"type\":\"BasicTickFormatter\"},{\"attributes\":{\"data\":{\"Variable\":[\"gross_rent\",\"gross_rent\",\"gross_rent\",\"gross_rent\",\"gross_rent\",\"gross_rent\",\"gross_rent\"],\"value\":[1239,1530,2324,2971,3528,3739,4390],\"year\":[2010,2011,2012,2013,2014,2015,2016]},\"selected\":{\"id\":\"6063\"},\"selection_policy\":{\"id\":\"6079\"}},\"id\":\"6062\",\"type\":\"ColumnDataSource\"},{\"attributes\":{\"click_policy\":\"mute\",\"items\":[{\"id\":\"6060\"},{\"id\":\"6082\"}],\"location\":[0,0],\"title\":\"Variable\"},\"id\":\"6059\",\"type\":\"Legend\"},{\"attributes\":{\"overlay\":{\"id\":\"6027\"}},\"id\":\"6025\",\"type\":\"BoxZoomTool\"},{\"attributes\":{\"axis\":{\"id\":\"6014\"},\"grid_line_color\":null,\"ticker\":null},\"id\":\"6017\",\"type\":\"Grid\"},{\"attributes\":{},\"id\":\"6010\",\"type\":\"LinearScale\"},{\"attributes\":{\"text\":\"San Francisco Gross Rent and Sale Price Per Square Foot, 2010-2016\",\"text_color\":\"black\",\"text_font_size\":\"12pt\"},\"id\":\"6006\",\"type\":\"Title\"},{\"attributes\":{\"children\":[{\"id\":\"6000\"},{\"id\":\"6005\"},{\"id\":\"6192\"}],\"margin\":[0,0,0,0],\"name\":\"Row18869\",\"tags\":[\"embedded\"]},\"id\":\"5999\",\"type\":\"Row\"},{\"attributes\":{\"data\":{\"Variable\":[\"sale_price_sqr_foot\",\"sale_price_sqr_foot\",\"sale_price_sqr_foot\",\"sale_price_sqr_foot\",\"sale_price_sqr_foot\",\"sale_price_sqr_foot\",\"sale_price_sqr_foot\"],\"value\":{\"__ndarray__\":\"tQKjeIIVd0Do7CdydF51QGdijk899nhAaBKk2Jo5fkDHKCTbN2KBQPETFqRSxINATx33UCbNhUA=\",\"dtype\":\"float64\",\"order\":\"little\",\"shape\":[7]},\"year\":[2010,2011,2012,2013,2014,2015,2016]},\"selected\":{\"id\":\"6042\"},\"selection_policy\":{\"id\":\"6056\"}},\"id\":\"6041\",\"type\":\"ColumnDataSource\"},{\"attributes\":{\"callback\":null,\"renderers\":[{\"id\":\"6047\"},{\"id\":\"6068\"}],\"tags\":[\"hv_created\"],\"tooltips\":[[\"Variable\",\"@{Variable}\"],[\"year\",\"@{year}\"],[\"value\",\"@{value}\"]]},\"id\":\"6003\",\"type\":\"HoverTool\"},{\"attributes\":{\"margin\":[5,5,5,5],\"name\":\"HSpacer18874\",\"sizing_mode\":\"stretch_width\"},\"id\":\"6192\",\"type\":\"Spacer\"}],\"root_ids\":[\"5999\"]},\"title\":\"Bokeh Application\",\"version\":\"2.3.2\"}};\n",
       "    var render_items = [{\"docid\":\"0951ed92-1735-498a-8a76-c14e20f9c0c5\",\"root_ids\":[\"5999\"],\"roots\":{\"5999\":\"30ccb27c-09c8-4b66-9541-b5ddf80b4e73\"}}];\n",
       "    root.Bokeh.embed.embed_items_notebook(docs_json, render_items);\n",
       "  }\n",
       "  if (root.Bokeh !== undefined && root.Bokeh.Panel !== undefined) {\n",
       "    embed_document(root);\n",
       "  } else {\n",
       "    var attempts = 0;\n",
       "    var timer = setInterval(function(root) {\n",
       "      if (root.Bokeh !== undefined && root.Bokeh.Panel !== undefined) {\n",
       "        clearInterval(timer);\n",
       "        embed_document(root);\n",
       "      } else if (document.readyState == \"complete\") {\n",
       "        attempts++;\n",
       "        if (attempts > 100) {\n",
       "          clearInterval(timer);\n",
       "          console.log(\"Bokeh: ERROR: Unable to run BokehJS code because BokehJS library is missing\");\n",
       "        }\n",
       "      }\n",
       "    }, 10, root)\n",
       "  }\n",
       "})(window);</script>"
      ],
      "text/plain": [
       ":NdOverlay   [Variable]\n",
       "   :Curve   [year]   (value)"
      ]
     },
     "execution_count": 54,
     "metadata": {
      "application/vnd.holoviews_exec.v0+json": {
       "id": "5999"
      }
     },
     "output_type": "execute_result"
    }
   ],
   "source": [
    "# Plot prices_square_foot_by_year. \n",
    "# Inclued labels for the x- and y-axes, and a title.\n",
    "prices_square_foot_by_year.hvplot(\n",
    "    xlabel=\"Year\",\n",
    "    ylabel=\"Gross Rent / Sale Price Per Square Foot\",\n",
    "    title=\"San Francisco Gross Rent and Sale Price Per Square Foot, 2010-2016\",\n",
    "    rot=45,\n",
    "    height=500,\n",
    "    width=1000\n",
    ")\n"
   ]
  },
  {
   "cell_type": "markdown",
   "metadata": {},
   "source": [
    "### Step 6: Use both the `prices_square_foot_by_year` DataFrame and interactive plots to answer the following questions:"
   ]
  },
  {
   "cell_type": "markdown",
   "metadata": {},
   "source": [
    "**Question** * Did any year experience a drop in the average sale price per square foot compared to the previous year?\n",
    "\n",
    "**Answer** There appears to have been a small dip in sale price per square foot from 2010 to 2011. From there it rose steadily year after year."
   ]
  },
  {
   "cell_type": "markdown",
   "metadata": {},
   "source": [
    "**Question** * If so, did the gross rent increase or decrease during that year?I\n",
    "\n",
    "**Answer** Gross rent still increased in that time period, as in all others."
   ]
  },
  {
   "cell_type": "markdown",
   "metadata": {},
   "source": [
    "---"
   ]
  },
  {
   "cell_type": "markdown",
   "metadata": {},
   "source": [
    "## Compare the Average Sale Prices by Neighborhood\n",
    "\n",
    "For this part of the assignment, use interactive visualizations and widgets to explore the average sale price per square foot by neighborhood. To do so, complete the following steps:\n",
    "\n",
    "1. Create a new DataFrame that groups the original DataFrame by year and neighborhood. Aggregate the results by the `mean` of the groups.\n",
    "\n",
    "2. Filter out the “housing_units” column to create a DataFrame that includes only the `sale_price_sqr_foot` and `gross_rent` averages per year.\n",
    "\n",
    "3. Create an interactive line plot with hvPlot that visualizes both `sale_price_sqr_foot` and `gross_rent`. Set the x-axis parameter to the year (`x=\"year\"`). Use the `groupby` parameter to create an interactive widget for `neighborhood`.\n",
    "\n",
    "4. Style and format the line plot to ensure a professionally styled visualization.\n",
    "\n",
    "5. Note that your resulting plot should appear similar to the following image:\n",
    "\n",
    "![A screenshot depicts an example of the resulting plot.](Images/pricing-info-by-neighborhood.png)\n",
    "\n",
    "6. Use the interactive visualization to answer the following question:\n",
    "\n",
    "    * For the Anza Vista neighborhood, is the average sale price per square foot for 2016 more or less than the price that’s listed for 2012? \n"
   ]
  },
  {
   "cell_type": "markdown",
   "metadata": {},
   "source": [
    "### Step 1: Create a new DataFrame that groups the original DataFrame by year and neighborhood. Aggregate the results by the `mean` of the groups."
   ]
  },
  {
   "cell_type": "code",
   "execution_count": 55,
   "metadata": {},
   "outputs": [
    {
     "data": {
      "text/html": [
       "<div>\n",
       "<style scoped>\n",
       "    .dataframe tbody tr th:only-of-type {\n",
       "        vertical-align: middle;\n",
       "    }\n",
       "\n",
       "    .dataframe tbody tr th {\n",
       "        vertical-align: top;\n",
       "    }\n",
       "\n",
       "    .dataframe thead th {\n",
       "        text-align: right;\n",
       "    }\n",
       "</style>\n",
       "<table border=\"1\" class=\"dataframe\">\n",
       "  <thead>\n",
       "    <tr style=\"text-align: right;\">\n",
       "      <th></th>\n",
       "      <th></th>\n",
       "      <th>sale_price_sqr_foot</th>\n",
       "      <th>housing_units</th>\n",
       "      <th>gross_rent</th>\n",
       "    </tr>\n",
       "    <tr>\n",
       "      <th>year</th>\n",
       "      <th>neighborhood</th>\n",
       "      <th></th>\n",
       "      <th></th>\n",
       "      <th></th>\n",
       "    </tr>\n",
       "  </thead>\n",
       "  <tbody>\n",
       "    <tr>\n",
       "      <th rowspan=\"5\" valign=\"top\">2010</th>\n",
       "      <th>Alamo Square</th>\n",
       "      <td>291.182945</td>\n",
       "      <td>372560</td>\n",
       "      <td>1239</td>\n",
       "    </tr>\n",
       "    <tr>\n",
       "      <th>Anza Vista</th>\n",
       "      <td>267.932583</td>\n",
       "      <td>372560</td>\n",
       "      <td>1239</td>\n",
       "    </tr>\n",
       "    <tr>\n",
       "      <th>Bayview</th>\n",
       "      <td>170.098665</td>\n",
       "      <td>372560</td>\n",
       "      <td>1239</td>\n",
       "    </tr>\n",
       "    <tr>\n",
       "      <th>Buena Vista Park</th>\n",
       "      <td>347.394919</td>\n",
       "      <td>372560</td>\n",
       "      <td>1239</td>\n",
       "    </tr>\n",
       "    <tr>\n",
       "      <th>Central Richmond</th>\n",
       "      <td>319.027623</td>\n",
       "      <td>372560</td>\n",
       "      <td>1239</td>\n",
       "    </tr>\n",
       "    <tr>\n",
       "      <th>...</th>\n",
       "      <th>...</th>\n",
       "      <td>...</td>\n",
       "      <td>...</td>\n",
       "      <td>...</td>\n",
       "    </tr>\n",
       "    <tr>\n",
       "      <th rowspan=\"5\" valign=\"top\">2016</th>\n",
       "      <th>Telegraph Hill</th>\n",
       "      <td>903.049771</td>\n",
       "      <td>384242</td>\n",
       "      <td>4390</td>\n",
       "    </tr>\n",
       "    <tr>\n",
       "      <th>Twin Peaks</th>\n",
       "      <td>970.085470</td>\n",
       "      <td>384242</td>\n",
       "      <td>4390</td>\n",
       "    </tr>\n",
       "    <tr>\n",
       "      <th>Van Ness/ Civic Center</th>\n",
       "      <td>552.602567</td>\n",
       "      <td>384242</td>\n",
       "      <td>4390</td>\n",
       "    </tr>\n",
       "    <tr>\n",
       "      <th>Visitacion Valley</th>\n",
       "      <td>328.319007</td>\n",
       "      <td>384242</td>\n",
       "      <td>4390</td>\n",
       "    </tr>\n",
       "    <tr>\n",
       "      <th>Westwood Park</th>\n",
       "      <td>631.195426</td>\n",
       "      <td>384242</td>\n",
       "      <td>4390</td>\n",
       "    </tr>\n",
       "  </tbody>\n",
       "</table>\n",
       "<p>397 rows × 3 columns</p>\n",
       "</div>"
      ],
      "text/plain": [
       "                             sale_price_sqr_foot  housing_units  gross_rent\n",
       "year neighborhood                                                          \n",
       "2010 Alamo Square                     291.182945         372560        1239\n",
       "     Anza Vista                       267.932583         372560        1239\n",
       "     Bayview                          170.098665         372560        1239\n",
       "     Buena Vista Park                 347.394919         372560        1239\n",
       "     Central Richmond                 319.027623         372560        1239\n",
       "...                                          ...            ...         ...\n",
       "2016 Telegraph Hill                   903.049771         384242        4390\n",
       "     Twin Peaks                       970.085470         384242        4390\n",
       "     Van Ness/ Civic Center           552.602567         384242        4390\n",
       "     Visitacion Valley                328.319007         384242        4390\n",
       "     Westwood Park                    631.195426         384242        4390\n",
       "\n",
       "[397 rows x 3 columns]"
      ]
     },
     "execution_count": 55,
     "metadata": {},
     "output_type": "execute_result"
    }
   ],
   "source": [
    "# Group by year and neighborhood and then create a new dataframe of the mean values\n",
    "prices_by_year_by_neighborhood = sfo_data_df.groupby([\"year\",\"neighborhood\"]).mean()\n",
    "\n",
    "# Review the DataFrame\n",
    "prices_by_year_by_neighborhood\n"
   ]
  },
  {
   "cell_type": "markdown",
   "metadata": {},
   "source": [
    "### Step 2: Filter out the “housing_units” column to create a DataFrame that includes only the `sale_price_sqr_foot` and `gross_rent` averages per year."
   ]
  },
  {
   "cell_type": "code",
   "execution_count": 56,
   "metadata": {},
   "outputs": [
    {
     "data": {
      "text/html": [
       "<div>\n",
       "<style scoped>\n",
       "    .dataframe tbody tr th:only-of-type {\n",
       "        vertical-align: middle;\n",
       "    }\n",
       "\n",
       "    .dataframe tbody tr th {\n",
       "        vertical-align: top;\n",
       "    }\n",
       "\n",
       "    .dataframe thead th {\n",
       "        text-align: right;\n",
       "    }\n",
       "</style>\n",
       "<table border=\"1\" class=\"dataframe\">\n",
       "  <thead>\n",
       "    <tr style=\"text-align: right;\">\n",
       "      <th></th>\n",
       "      <th></th>\n",
       "      <th>sale_price_sqr_foot</th>\n",
       "      <th>gross_rent</th>\n",
       "    </tr>\n",
       "    <tr>\n",
       "      <th>year</th>\n",
       "      <th>neighborhood</th>\n",
       "      <th></th>\n",
       "      <th></th>\n",
       "    </tr>\n",
       "  </thead>\n",
       "  <tbody>\n",
       "    <tr>\n",
       "      <th rowspan=\"5\" valign=\"top\">2010</th>\n",
       "      <th>Alamo Square</th>\n",
       "      <td>291.182945</td>\n",
       "      <td>1239</td>\n",
       "    </tr>\n",
       "    <tr>\n",
       "      <th>Anza Vista</th>\n",
       "      <td>267.932583</td>\n",
       "      <td>1239</td>\n",
       "    </tr>\n",
       "    <tr>\n",
       "      <th>Bayview</th>\n",
       "      <td>170.098665</td>\n",
       "      <td>1239</td>\n",
       "    </tr>\n",
       "    <tr>\n",
       "      <th>Buena Vista Park</th>\n",
       "      <td>347.394919</td>\n",
       "      <td>1239</td>\n",
       "    </tr>\n",
       "    <tr>\n",
       "      <th>Central Richmond</th>\n",
       "      <td>319.027623</td>\n",
       "      <td>1239</td>\n",
       "    </tr>\n",
       "  </tbody>\n",
       "</table>\n",
       "</div>"
      ],
      "text/plain": [
       "                       sale_price_sqr_foot  gross_rent\n",
       "year neighborhood                                     \n",
       "2010 Alamo Square               291.182945        1239\n",
       "     Anza Vista                 267.932583        1239\n",
       "     Bayview                    170.098665        1239\n",
       "     Buena Vista Park           347.394919        1239\n",
       "     Central Richmond           319.027623        1239"
      ]
     },
     "metadata": {},
     "output_type": "display_data"
    },
    {
     "data": {
      "text/html": [
       "<div>\n",
       "<style scoped>\n",
       "    .dataframe tbody tr th:only-of-type {\n",
       "        vertical-align: middle;\n",
       "    }\n",
       "\n",
       "    .dataframe tbody tr th {\n",
       "        vertical-align: top;\n",
       "    }\n",
       "\n",
       "    .dataframe thead th {\n",
       "        text-align: right;\n",
       "    }\n",
       "</style>\n",
       "<table border=\"1\" class=\"dataframe\">\n",
       "  <thead>\n",
       "    <tr style=\"text-align: right;\">\n",
       "      <th></th>\n",
       "      <th></th>\n",
       "      <th>sale_price_sqr_foot</th>\n",
       "      <th>gross_rent</th>\n",
       "    </tr>\n",
       "    <tr>\n",
       "      <th>year</th>\n",
       "      <th>neighborhood</th>\n",
       "      <th></th>\n",
       "      <th></th>\n",
       "    </tr>\n",
       "  </thead>\n",
       "  <tbody>\n",
       "    <tr>\n",
       "      <th rowspan=\"5\" valign=\"top\">2016</th>\n",
       "      <th>Telegraph Hill</th>\n",
       "      <td>903.049771</td>\n",
       "      <td>4390</td>\n",
       "    </tr>\n",
       "    <tr>\n",
       "      <th>Twin Peaks</th>\n",
       "      <td>970.085470</td>\n",
       "      <td>4390</td>\n",
       "    </tr>\n",
       "    <tr>\n",
       "      <th>Van Ness/ Civic Center</th>\n",
       "      <td>552.602567</td>\n",
       "      <td>4390</td>\n",
       "    </tr>\n",
       "    <tr>\n",
       "      <th>Visitacion Valley</th>\n",
       "      <td>328.319007</td>\n",
       "      <td>4390</td>\n",
       "    </tr>\n",
       "    <tr>\n",
       "      <th>Westwood Park</th>\n",
       "      <td>631.195426</td>\n",
       "      <td>4390</td>\n",
       "    </tr>\n",
       "  </tbody>\n",
       "</table>\n",
       "</div>"
      ],
      "text/plain": [
       "                             sale_price_sqr_foot  gross_rent\n",
       "year neighborhood                                           \n",
       "2016 Telegraph Hill                   903.049771        4390\n",
       "     Twin Peaks                       970.085470        4390\n",
       "     Van Ness/ Civic Center           552.602567        4390\n",
       "     Visitacion Valley                328.319007        4390\n",
       "     Westwood Park                    631.195426        4390"
      ]
     },
     "metadata": {},
     "output_type": "display_data"
    }
   ],
   "source": [
    "# Filter out the housing_units\n",
    "prices_by_year_by_neighborhood = prices_by_year_by_neighborhood.drop(['housing_units'], axis = 1)\n",
    "\n",
    "# Review the first and last five rows of the DataFrame\n",
    "display(prices_by_year_by_neighborhood.head())\n",
    "display(prices_by_year_by_neighborhood.tail())"
   ]
  },
  {
   "cell_type": "markdown",
   "metadata": {},
   "source": [
    "### Step 3: Create an interactive line plot with hvPlot that visualizes both `sale_price_sqr_foot` and `gross_rent`. Set the x-axis parameter to the year (`x=\"year\"`). Use the `groupby` parameter to create an interactive widget for `neighborhood`.\n",
    "\n",
    "### Step 4: Style and format the line plot to ensure a professionally styled visualization."
   ]
  },
  {
   "cell_type": "code",
   "execution_count": 57,
   "metadata": {},
   "outputs": [
    {
     "data": {},
     "metadata": {},
     "output_type": "display_data"
    },
    {
     "data": {
      "application/vnd.holoviews_exec.v0+json": "",
      "text/html": [
       "<div id='6254'>\n",
       "\n",
       "\n",
       "\n",
       "\n",
       "\n",
       "  <div class=\"bk-root\" id=\"69c7e1ad-27cc-4fcc-966e-6bcc17874610\" data-root-id=\"6254\"></div>\n",
       "</div>\n",
       "<script type=\"application/javascript\">(function(root) {\n",
       "  function embed_document(root) {\n",
       "    var docs_json = {\"37e9fd0d-3748-467d-89e4-6b2c24522589\":{\"defs\":[],\"roots\":{\"references\":[{\"attributes\":{\"below\":[{\"id\":\"6269\"}],\"center\":[{\"id\":\"6272\"},{\"id\":\"6276\"}],\"height\":500,\"left\":[{\"id\":\"6273\"}],\"margin\":[5,5,5,5],\"min_border_bottom\":10,\"min_border_left\":10,\"min_border_right\":10,\"min_border_top\":10,\"renderers\":[{\"id\":\"6302\"},{\"id\":\"6323\"}],\"right\":[{\"id\":\"6314\"}],\"sizing_mode\":\"fixed\",\"title\":{\"id\":\"6261\"},\"toolbar\":{\"id\":\"6283\"},\"width\":1000,\"x_range\":{\"id\":\"6256\"},\"x_scale\":{\"id\":\"6265\"},\"y_range\":{\"id\":\"6257\"},\"y_scale\":{\"id\":\"6267\"}},\"id\":\"6260\",\"subtype\":\"Figure\",\"type\":\"Plot\"},{\"attributes\":{\"data_source\":{\"id\":\"6317\"},\"glyph\":{\"id\":\"6320\"},\"hover_glyph\":null,\"muted_glyph\":{\"id\":\"6322\"},\"nonselection_glyph\":{\"id\":\"6321\"},\"selection_glyph\":{\"id\":\"6338\"},\"view\":{\"id\":\"6324\"}},\"id\":\"6323\",\"type\":\"GlyphRenderer\"},{\"attributes\":{},\"id\":\"6293\",\"type\":\"AllLabels\"},{\"attributes\":{\"bottom_units\":\"screen\",\"fill_alpha\":0.5,\"fill_color\":\"lightgrey\",\"left_units\":\"screen\",\"level\":\"overlay\",\"line_alpha\":1.0,\"line_color\":\"black\",\"line_dash\":[4,4],\"line_width\":2,\"right_units\":\"screen\",\"syncable\":false,\"top_units\":\"screen\"},\"id\":\"6282\",\"type\":\"BoxAnnotation\"},{\"attributes\":{\"margin\":[5,5,5,5],\"name\":\"HSpacer19251\",\"sizing_mode\":\"stretch_width\"},\"id\":\"6453\",\"type\":\"Spacer\"},{\"attributes\":{\"children\":[{\"id\":\"6455\"},{\"id\":\"6456\"},{\"id\":\"6458\"}],\"margin\":[0,0,0,0],\"name\":\"Column19249\"},\"id\":\"6454\",\"type\":\"Column\"},{\"attributes\":{\"data_source\":{\"id\":\"6296\"},\"glyph\":{\"id\":\"6299\"},\"hover_glyph\":null,\"muted_glyph\":{\"id\":\"6301\"},\"nonselection_glyph\":{\"id\":\"6300\"},\"selection_glyph\":{\"id\":\"6316\"},\"view\":{\"id\":\"6303\"}},\"id\":\"6302\",\"type\":\"GlyphRenderer\"},{\"attributes\":{\"data\":{\"Variable\":[\"gross_rent\",\"gross_rent\",\"gross_rent\",\"gross_rent\",\"gross_rent\",\"gross_rent\",\"gross_rent\"],\"value\":[1239,1530,2324,2971,3528,3739,4390],\"year\":[2010,2011,2012,2013,2014,2015,2016]},\"selected\":{\"id\":\"6318\"},\"selection_policy\":{\"id\":\"6334\"}},\"id\":\"6317\",\"type\":\"ColumnDataSource\"},{\"attributes\":{},\"id\":\"6294\",\"type\":\"BasicTickFormatter\"},{\"attributes\":{\"children\":[{\"id\":\"6457\"}],\"css_classes\":[\"panel-widget-box\"],\"margin\":[5,5,5,5],\"name\":\"WidgetBox19242\"},\"id\":\"6456\",\"type\":\"Column\"},{\"attributes\":{\"data\":{\"Variable\":[\"sale_price_sqr_foot\",\"sale_price_sqr_foot\",\"sale_price_sqr_foot\",\"sale_price_sqr_foot\",\"sale_price_sqr_foot\",\"sale_price_sqr_foot\",\"sale_price_sqr_foot\"],\"value\":{\"__ndarray__\":\"DUc7WO0yckCafszcbwhxQIKRs5ot42ZAKDog0LQ8eEAVMinKGEd+QI4V5FDt0IJAVCHcmLVPdUA=\",\"dtype\":\"float64\",\"order\":\"little\",\"shape\":[7]},\"year\":[2010,2011,2012,2013,2014,2015,2016]},\"selected\":{\"id\":\"6297\"},\"selection_policy\":{\"id\":\"6311\"}},\"id\":\"6296\",\"type\":\"ColumnDataSource\"},{\"attributes\":{\"click_policy\":\"mute\",\"items\":[{\"id\":\"6315\"},{\"id\":\"6337\"}],\"location\":[0,0],\"title\":\"Variable\"},\"id\":\"6314\",\"type\":\"Legend\"},{\"attributes\":{\"source\":{\"id\":\"6317\"}},\"id\":\"6324\",\"type\":\"CDSView\"},{\"attributes\":{},\"id\":\"6277\",\"type\":\"SaveTool\"},{\"attributes\":{},\"id\":\"6278\",\"type\":\"PanTool\"},{\"attributes\":{},\"id\":\"6270\",\"type\":\"BasicTicker\"},{\"attributes\":{\"line_alpha\":0.2,\"line_color\":\"#fc4f30\",\"line_width\":2,\"x\":{\"field\":\"year\"},\"y\":{\"field\":\"value\"}},\"id\":\"6322\",\"type\":\"Line\"},{\"attributes\":{},\"id\":\"6281\",\"type\":\"ResetTool\"},{\"attributes\":{\"margin\":[5,5,5,5],\"name\":\"VSpacer19247\",\"sizing_mode\":\"stretch_height\"},\"id\":\"6455\",\"type\":\"Spacer\"},{\"attributes\":{\"line_color\":\"#30a2da\",\"line_width\":2,\"x\":{\"field\":\"year\"},\"y\":{\"field\":\"value\"}},\"id\":\"6316\",\"type\":\"Line\"},{\"attributes\":{},\"id\":\"6279\",\"type\":\"WheelZoomTool\"},{\"attributes\":{\"source\":{\"id\":\"6296\"}},\"id\":\"6303\",\"type\":\"CDSView\"},{\"attributes\":{\"overlay\":{\"id\":\"6282\"}},\"id\":\"6280\",\"type\":\"BoxZoomTool\"},{\"attributes\":{\"margin\":[20,20,20,20],\"min_width\":250,\"options\":[\"Alamo Square\",\"Anza Vista\",\"Bayview\",\"Buena Vista Park\",\"Central Richmond\",\"Central Sunset\",\"Corona Heights\",\"Cow Hollow\",\"Croker Amazon\",\"Diamond Heights\",\"Downtown \",\"Eureka Valley/Dolores Heights\",\"Excelsior\",\"Financial District North\",\"Financial District South\",\"Forest Knolls\",\"Glen Park\",\"Golden Gate Heights\",\"Haight Ashbury\",\"Hayes Valley\",\"Hunters Point\",\"Ingleside \",\"Inner Mission\",\"Inner Parkside\",\"Inner Richmond\",\"Inner Sunset\",\"Jordan Park/Laurel Heights\",\"Lake --The Presidio\",\"Lone Mountain\",\"Lower Pacific Heights\",\"Marina\",\"Miraloma Park\",\"Mission Bay\",\"Mission Dolores\",\"Mission Terrace\",\"Nob Hill\",\"Noe Valley\",\"Oceanview\",\"Outer Parkside\",\"Outer Richmond \",\"Outer Sunset\",\"Pacific Heights\",\"Park North\",\"Parkside\",\"Parnassus/Ashbury Heights\",\"Portola\",\"Potrero Hill\",\"Presidio Heights\",\"Russian Hill\",\"South Beach\",\"South of Market\",\"Sunnyside\",\"Telegraph Hill\",\"Twin Peaks\",\"Union Square District\",\"Van Ness/ Civic Center\",\"West Portal\",\"Western Addition\",\"Yerba Buena\",\"Bernal Heights \",\"Clarendon Heights\",\"Duboce Triangle\",\"Ingleside Heights\",\"North Beach\",\"North Waterfront\",\"Outer Mission\",\"Westwood Highlands\",\"Merced Heights\",\"Midtown Terrace\",\"Visitacion Valley\",\"Silver Terrace\",\"Westwood Park\",\"Bayview Heights\"],\"title\":\"neighborhood\",\"value\":\"Alamo Square\",\"width\":250},\"id\":\"6457\",\"type\":\"Select\"},{\"attributes\":{\"axis\":{\"id\":\"6269\"},\"grid_line_color\":null,\"ticker\":null},\"id\":\"6272\",\"type\":\"Grid\"},{\"attributes\":{},\"id\":\"6265\",\"type\":\"LinearScale\"},{\"attributes\":{},\"id\":\"6318\",\"type\":\"Selection\"},{\"attributes\":{\"children\":[{\"id\":\"6255\"},{\"id\":\"6260\"},{\"id\":\"6453\"},{\"id\":\"6454\"}],\"margin\":[0,0,0,0],\"name\":\"Row19241\"},\"id\":\"6254\",\"type\":\"Row\"},{\"attributes\":{\"text\":\"Sale Price per Square Foot & Gross Rent Averages by Neighborhood, San Francisco, 2010-2016\",\"text_color\":\"black\",\"text_font_size\":\"12pt\"},\"id\":\"6261\",\"type\":\"Title\"},{\"attributes\":{\"label\":{\"value\":\"sale_price_sqr_foot\"},\"renderers\":[{\"id\":\"6302\"}]},\"id\":\"6315\",\"type\":\"LegendItem\"},{\"attributes\":{},\"id\":\"6297\",\"type\":\"Selection\"},{\"attributes\":{},\"id\":\"6334\",\"type\":\"UnionRenderers\"},{\"attributes\":{},\"id\":\"6267\",\"type\":\"LinearScale\"},{\"attributes\":{\"line_alpha\":0.2,\"line_color\":\"#30a2da\",\"line_width\":2,\"x\":{\"field\":\"year\"},\"y\":{\"field\":\"value\"}},\"id\":\"6301\",\"type\":\"Line\"},{\"attributes\":{\"line_color\":\"#fc4f30\",\"line_width\":2,\"x\":{\"field\":\"year\"},\"y\":{\"field\":\"value\"}},\"id\":\"6320\",\"type\":\"Line\"},{\"attributes\":{\"line_color\":\"#fc4f30\",\"line_width\":2,\"x\":{\"field\":\"year\"},\"y\":{\"field\":\"value\"}},\"id\":\"6338\",\"type\":\"Line\"},{\"attributes\":{\"axis_label\":\"\",\"formatter\":{\"id\":\"6294\"},\"major_label_policy\":{\"id\":\"6293\"},\"ticker\":{\"id\":\"6274\"}},\"id\":\"6273\",\"type\":\"LinearAxis\"},{\"attributes\":{\"margin\":[5,5,5,5],\"name\":\"VSpacer19248\",\"sizing_mode\":\"stretch_height\"},\"id\":\"6458\",\"type\":\"Spacer\"},{\"attributes\":{\"line_color\":\"#30a2da\",\"line_width\":2,\"x\":{\"field\":\"year\"},\"y\":{\"field\":\"value\"}},\"id\":\"6299\",\"type\":\"Line\"},{\"attributes\":{\"label\":{\"value\":\"gross_rent\"},\"renderers\":[{\"id\":\"6323\"}]},\"id\":\"6337\",\"type\":\"LegendItem\"},{\"attributes\":{\"margin\":[5,5,5,5],\"name\":\"HSpacer19250\",\"sizing_mode\":\"stretch_width\"},\"id\":\"6255\",\"type\":\"Spacer\"},{\"attributes\":{\"axis_label\":\"Year\",\"formatter\":{\"id\":\"6291\"},\"major_label_policy\":{\"id\":\"6290\"},\"ticker\":{\"id\":\"6270\"}},\"id\":\"6269\",\"type\":\"LinearAxis\"},{\"attributes\":{\"line_alpha\":0.1,\"line_color\":\"#30a2da\",\"line_width\":2,\"x\":{\"field\":\"year\"},\"y\":{\"field\":\"value\"}},\"id\":\"6300\",\"type\":\"Line\"},{\"attributes\":{},\"id\":\"6311\",\"type\":\"UnionRenderers\"},{\"attributes\":{\"client_comm_id\":\"9e69bdde14374bb697b1affb95edb0a4\",\"comm_id\":\"2c515335a4794301b1a53fdb31b71c70\",\"plot_id\":\"6254\"},\"id\":\"6495\",\"type\":\"panel.models.comm_manager.CommManager\"},{\"attributes\":{\"end\":4810.690068306854,\"reset_end\":4810.690068306854,\"reset_start\":-237.59075137539725,\"start\":-237.59075137539725,\"tags\":[[[\"value\",\"value\",null]]]},\"id\":\"6257\",\"type\":\"Range1d\"},{\"attributes\":{\"end\":2016.0,\"reset_end\":2016.0,\"reset_start\":2010.0,\"start\":2010.0,\"tags\":[[[\"year\",\"year\",null]]]},\"id\":\"6256\",\"type\":\"Range1d\"},{\"attributes\":{\"callback\":null,\"renderers\":[{\"id\":\"6302\"},{\"id\":\"6323\"}],\"tags\":[\"hv_created\"],\"tooltips\":[[\"Variable\",\"@{Variable}\"],[\"year\",\"@{year}\"],[\"value\",\"@{value}\"]]},\"id\":\"6258\",\"type\":\"HoverTool\"},{\"attributes\":{\"active_multi\":null,\"tools\":[{\"id\":\"6258\"},{\"id\":\"6277\"},{\"id\":\"6278\"},{\"id\":\"6279\"},{\"id\":\"6280\"},{\"id\":\"6281\"}]},\"id\":\"6283\",\"type\":\"Toolbar\"},{\"attributes\":{},\"id\":\"6291\",\"type\":\"BasicTickFormatter\"},{\"attributes\":{},\"id\":\"6290\",\"type\":\"AllLabels\"},{\"attributes\":{},\"id\":\"6274\",\"type\":\"BasicTicker\"},{\"attributes\":{\"axis\":{\"id\":\"6273\"},\"dimension\":1,\"grid_line_color\":null,\"ticker\":null},\"id\":\"6276\",\"type\":\"Grid\"},{\"attributes\":{\"line_alpha\":0.1,\"line_color\":\"#fc4f30\",\"line_width\":2,\"x\":{\"field\":\"year\"},\"y\":{\"field\":\"value\"}},\"id\":\"6321\",\"type\":\"Line\"}],\"root_ids\":[\"6254\",\"6495\"]},\"title\":\"Bokeh Application\",\"version\":\"2.3.2\"}};\n",
       "    var render_items = [{\"docid\":\"37e9fd0d-3748-467d-89e4-6b2c24522589\",\"root_ids\":[\"6254\"],\"roots\":{\"6254\":\"69c7e1ad-27cc-4fcc-966e-6bcc17874610\"}}];\n",
       "    root.Bokeh.embed.embed_items_notebook(docs_json, render_items);\n",
       "  }\n",
       "  if (root.Bokeh !== undefined && root.Bokeh.Panel !== undefined) {\n",
       "    embed_document(root);\n",
       "  } else {\n",
       "    var attempts = 0;\n",
       "    var timer = setInterval(function(root) {\n",
       "      if (root.Bokeh !== undefined && root.Bokeh.Panel !== undefined) {\n",
       "        clearInterval(timer);\n",
       "        embed_document(root);\n",
       "      } else if (document.readyState == \"complete\") {\n",
       "        attempts++;\n",
       "        if (attempts > 100) {\n",
       "          clearInterval(timer);\n",
       "          console.log(\"Bokeh: ERROR: Unable to run BokehJS code because BokehJS library is missing\");\n",
       "        }\n",
       "      }\n",
       "    }, 10, root)\n",
       "  }\n",
       "})(window);</script>"
      ],
      "text/plain": [
       ":DynamicMap   [neighborhood]\n",
       "   :NdOverlay   [Variable]\n",
       "      :Curve   [year]   (value)"
      ]
     },
     "execution_count": 57,
     "metadata": {
      "application/vnd.holoviews_exec.v0+json": {
       "id": "6254"
      }
     },
     "output_type": "execute_result"
    }
   ],
   "source": [
    "# Use hvplot to create an interactive line plot of the average price per square foot\n",
    "# The plot should have a dropdown selector for the neighborhood\n",
    "prices_by_year_by_neighborhood.hvplot(\n",
    "    x=\"year\",\n",
    "    xlabel=\"Year\",\n",
    "    groupby=\"neighborhood\",\n",
    "    title=\"Sale Price per Square Foot & Gross Rent Averages by Neighborhood, San Francisco, 2010-2016\",\n",
    "    height=500,\n",
    "    width=1000\n",
    ")\n"
   ]
  },
  {
   "cell_type": "markdown",
   "metadata": {},
   "source": [
    "### Step 6: Use the interactive visualization to answer the following question:"
   ]
  },
  {
   "cell_type": "markdown",
   "metadata": {},
   "source": [
    "**Question** For the Anza Vista neighborhood, is the average sale price per square foot for 2016 more or less than the price that’s listed for 2012? \n",
    "\n",
    "**Answer** For the Anza Vista neighborhood, the sale price in per square foot in 2012 was 344.49. The average sale price per square foot in 2016 was 88.40. The average sale price per square foot is lower in 2016 than it was in 2012."
   ]
  },
  {
   "cell_type": "markdown",
   "metadata": {},
   "source": [
    "---"
   ]
  },
  {
   "cell_type": "markdown",
   "metadata": {},
   "source": [
    "## Build an Interactive Neighborhood Map\n",
    "\n",
    "For this part of the assignment, explore the geospatial relationships in the data by using interactive visualizations with Plotly and the Mapbox API. To build your map, use the `sfo_data_df` DataFrame (created during the initial import), which includes the neighborhood location data with the average prices. To do all this, complete the following steps:\n",
    "\n",
    "1. Read the `neighborhood_coordinates.csv` file from the `Resources` folder into the notebook, and create a DataFrame named `neighborhood_locations_df`. Be sure to set the `index_col` of the DataFrame as “Neighborhood”.\n",
    "\n",
    "2. Using the original `sfo_data_df` Dataframe, create a DataFrame named `all_neighborhood_info_df` that groups the data by neighborhood. Aggregate the results by the `mean` of the group.\n",
    "\n",
    "3. Review the two code cells that concatenate the `neighborhood_locations_df` DataFrame with the `all_neighborhood_info_df` DataFrame. Note that the first cell uses the [Pandas concat function](https://pandas.pydata.org/pandas-docs/stable/reference/api/pandas.concat.html) to create a DataFrame named `all_neighborhoods_df`. The second cell cleans the data and sets the “Neighborhood” column. Be sure to run these cells to create the `all_neighborhoods_df` DataFrame, which you’ll need to create the geospatial visualization.\n",
    "\n",
    "4. Using Plotly Express, create a `scatter_mapbox` for the `all_neighborhoods_df` DataFrame. Remember that you need your MapBox API key. Be sure to do the following:\n",
    "\n",
    "    * Set the `size` parameter to “sale_price_sqr_foot”.\n",
    "\n",
    "    * Set the `color` parameter to “gross_rent”.\n",
    "\n",
    "    * Set the `size_max` parameter to “25”.\n",
    "\n",
    "    * Set the `zoom` parameter to “11”.\n",
    "\n",
    "5. Style and format the line plot to ensure a professionally styled visualization.\n",
    "\n",
    "6. Note that your resulting plot should appear similar to the following image:\n",
    "\n",
    "![A screenshot depicts an example of a scatter plot created with the Mapbox API.](Images/mapbox-plot.png)\n",
    "\n",
    "7. Use the interactive map to answer the following question:\n",
    "\n",
    "    * Which neighborhood has the highest gross rent, and which has the highest sale price per square foot?\n",
    "\n"
   ]
  },
  {
   "cell_type": "markdown",
   "metadata": {},
   "source": [
    "### Step 1: Read the `neighborhood_coordinates.csv` file from the `Resources` folder into the notebook, and create a DataFrame named `neighborhood_locations_df`. Be sure to set the `index_col` of the DataFrame as “Neighborhood”."
   ]
  },
  {
   "cell_type": "code",
   "execution_count": 58,
   "metadata": {},
   "outputs": [
    {
     "data": {
      "text/html": [
       "<div>\n",
       "<style scoped>\n",
       "    .dataframe tbody tr th:only-of-type {\n",
       "        vertical-align: middle;\n",
       "    }\n",
       "\n",
       "    .dataframe tbody tr th {\n",
       "        vertical-align: top;\n",
       "    }\n",
       "\n",
       "    .dataframe thead th {\n",
       "        text-align: right;\n",
       "    }\n",
       "</style>\n",
       "<table border=\"1\" class=\"dataframe\">\n",
       "  <thead>\n",
       "    <tr style=\"text-align: right;\">\n",
       "      <th></th>\n",
       "      <th>Lat</th>\n",
       "      <th>Lon</th>\n",
       "    </tr>\n",
       "    <tr>\n",
       "      <th>Neighborhood</th>\n",
       "      <th></th>\n",
       "      <th></th>\n",
       "    </tr>\n",
       "  </thead>\n",
       "  <tbody>\n",
       "    <tr>\n",
       "      <th>Alamo Square</th>\n",
       "      <td>37.791012</td>\n",
       "      <td>-122.402100</td>\n",
       "    </tr>\n",
       "    <tr>\n",
       "      <th>Anza Vista</th>\n",
       "      <td>37.779598</td>\n",
       "      <td>-122.443451</td>\n",
       "    </tr>\n",
       "    <tr>\n",
       "      <th>Bayview</th>\n",
       "      <td>37.734670</td>\n",
       "      <td>-122.401060</td>\n",
       "    </tr>\n",
       "    <tr>\n",
       "      <th>Bayview Heights</th>\n",
       "      <td>37.728740</td>\n",
       "      <td>-122.410980</td>\n",
       "    </tr>\n",
       "    <tr>\n",
       "      <th>Bernal Heights</th>\n",
       "      <td>37.728630</td>\n",
       "      <td>-122.443050</td>\n",
       "    </tr>\n",
       "  </tbody>\n",
       "</table>\n",
       "</div>"
      ],
      "text/plain": [
       "                       Lat         Lon\n",
       "Neighborhood                          \n",
       "Alamo Square     37.791012 -122.402100\n",
       "Anza Vista       37.779598 -122.443451\n",
       "Bayview          37.734670 -122.401060\n",
       "Bayview Heights  37.728740 -122.410980\n",
       "Bernal Heights   37.728630 -122.443050"
      ]
     },
     "execution_count": 58,
     "metadata": {},
     "output_type": "execute_result"
    }
   ],
   "source": [
    "# Load neighborhoods coordinates data\n",
    "neighborhood_locations_df = pd.read_csv(\n",
    "    Path(\"./Resources/neighborhoods_coordinates.csv\"),\n",
    "    index_col=\"Neighborhood\"\n",
    ")\n",
    "\n",
    "# Review the DataFrame\n",
    "neighborhood_locations_df.head()\n"
   ]
  },
  {
   "cell_type": "markdown",
   "metadata": {},
   "source": [
    "### Step 2: Using the original `sfo_data_df` Dataframe, create a DataFrame named `all_neighborhood_info_df` that groups the data by neighborhood. Aggregate the results by the `mean` of the group."
   ]
  },
  {
   "cell_type": "code",
   "execution_count": 59,
   "metadata": {},
   "outputs": [
    {
     "data": {
      "text/html": [
       "<div>\n",
       "<style scoped>\n",
       "    .dataframe tbody tr th:only-of-type {\n",
       "        vertical-align: middle;\n",
       "    }\n",
       "\n",
       "    .dataframe tbody tr th {\n",
       "        vertical-align: top;\n",
       "    }\n",
       "\n",
       "    .dataframe thead th {\n",
       "        text-align: right;\n",
       "    }\n",
       "</style>\n",
       "<table border=\"1\" class=\"dataframe\">\n",
       "  <thead>\n",
       "    <tr style=\"text-align: right;\">\n",
       "      <th></th>\n",
       "      <th>year</th>\n",
       "      <th>sale_price_sqr_foot</th>\n",
       "      <th>housing_units</th>\n",
       "      <th>gross_rent</th>\n",
       "    </tr>\n",
       "    <tr>\n",
       "      <th>neighborhood</th>\n",
       "      <th></th>\n",
       "      <th></th>\n",
       "      <th></th>\n",
       "      <th></th>\n",
       "    </tr>\n",
       "  </thead>\n",
       "  <tbody>\n",
       "    <tr>\n",
       "      <th>Alamo Square</th>\n",
       "      <td>2013.000000</td>\n",
       "      <td>366.020712</td>\n",
       "      <td>378401.0</td>\n",
       "      <td>2817.285714</td>\n",
       "    </tr>\n",
       "    <tr>\n",
       "      <th>Anza Vista</th>\n",
       "      <td>2013.333333</td>\n",
       "      <td>373.382198</td>\n",
       "      <td>379050.0</td>\n",
       "      <td>3031.833333</td>\n",
       "    </tr>\n",
       "    <tr>\n",
       "      <th>Bayview</th>\n",
       "      <td>2012.000000</td>\n",
       "      <td>204.588623</td>\n",
       "      <td>376454.0</td>\n",
       "      <td>2318.400000</td>\n",
       "    </tr>\n",
       "    <tr>\n",
       "      <th>Bayview Heights</th>\n",
       "      <td>2015.000000</td>\n",
       "      <td>590.792839</td>\n",
       "      <td>382295.0</td>\n",
       "      <td>3739.000000</td>\n",
       "    </tr>\n",
       "    <tr>\n",
       "      <th>Bernal Heights</th>\n",
       "      <td>2013.500000</td>\n",
       "      <td>576.746488</td>\n",
       "      <td>379374.5</td>\n",
       "      <td>3080.333333</td>\n",
       "    </tr>\n",
       "  </tbody>\n",
       "</table>\n",
       "</div>"
      ],
      "text/plain": [
       "                        year  sale_price_sqr_foot  housing_units   gross_rent\n",
       "neighborhood                                                                 \n",
       "Alamo Square     2013.000000           366.020712       378401.0  2817.285714\n",
       "Anza Vista       2013.333333           373.382198       379050.0  3031.833333\n",
       "Bayview          2012.000000           204.588623       376454.0  2318.400000\n",
       "Bayview Heights  2015.000000           590.792839       382295.0  3739.000000\n",
       "Bernal Heights   2013.500000           576.746488       379374.5  3080.333333"
      ]
     },
     "execution_count": 59,
     "metadata": {},
     "output_type": "execute_result"
    }
   ],
   "source": [
    "# Calculate the mean values for each neighborhood\n",
    "all_neighborhood_info_df = sfo_data_df.groupby(\"neighborhood\").mean()\n",
    "\n",
    "# Review the resulting DataFrame\n",
    "all_neighborhood_info_df.head()\n"
   ]
  },
  {
   "cell_type": "markdown",
   "metadata": {},
   "source": [
    "### Step 3: Review the two code cells that concatenate the `neighborhood_locations_df` DataFrame with the `all_neighborhood_info_df` DataFrame. \n",
    "\n",
    "Note that the first cell uses the [Pandas concat function](https://pandas.pydata.org/pandas-docs/stable/reference/api/pandas.concat.html) to create a DataFrame named `all_neighborhoods_df`. \n",
    "\n",
    "The second cell cleans the data and sets the “Neighborhood” column. \n",
    "\n",
    "Be sure to run these cells to create the `all_neighborhoods_df` DataFrame, which you’ll need to create the geospatial visualization."
   ]
  },
  {
   "cell_type": "code",
   "execution_count": 60,
   "metadata": {},
   "outputs": [
    {
     "data": {
      "text/html": [
       "<div>\n",
       "<style scoped>\n",
       "    .dataframe tbody tr th:only-of-type {\n",
       "        vertical-align: middle;\n",
       "    }\n",
       "\n",
       "    .dataframe tbody tr th {\n",
       "        vertical-align: top;\n",
       "    }\n",
       "\n",
       "    .dataframe thead th {\n",
       "        text-align: right;\n",
       "    }\n",
       "</style>\n",
       "<table border=\"1\" class=\"dataframe\">\n",
       "  <thead>\n",
       "    <tr style=\"text-align: right;\">\n",
       "      <th></th>\n",
       "      <th>Lat</th>\n",
       "      <th>Lon</th>\n",
       "      <th>year</th>\n",
       "      <th>sale_price_sqr_foot</th>\n",
       "      <th>housing_units</th>\n",
       "      <th>gross_rent</th>\n",
       "    </tr>\n",
       "  </thead>\n",
       "  <tbody>\n",
       "    <tr>\n",
       "      <th>Alamo Square</th>\n",
       "      <td>37.791012</td>\n",
       "      <td>-122.402100</td>\n",
       "      <td>2013.000000</td>\n",
       "      <td>366.020712</td>\n",
       "      <td>378401.0</td>\n",
       "      <td>2817.285714</td>\n",
       "    </tr>\n",
       "    <tr>\n",
       "      <th>Anza Vista</th>\n",
       "      <td>37.779598</td>\n",
       "      <td>-122.443451</td>\n",
       "      <td>2013.333333</td>\n",
       "      <td>373.382198</td>\n",
       "      <td>379050.0</td>\n",
       "      <td>3031.833333</td>\n",
       "    </tr>\n",
       "    <tr>\n",
       "      <th>Bayview</th>\n",
       "      <td>37.734670</td>\n",
       "      <td>-122.401060</td>\n",
       "      <td>2012.000000</td>\n",
       "      <td>204.588623</td>\n",
       "      <td>376454.0</td>\n",
       "      <td>2318.400000</td>\n",
       "    </tr>\n",
       "    <tr>\n",
       "      <th>Bayview Heights</th>\n",
       "      <td>37.728740</td>\n",
       "      <td>-122.410980</td>\n",
       "      <td>2015.000000</td>\n",
       "      <td>590.792839</td>\n",
       "      <td>382295.0</td>\n",
       "      <td>3739.000000</td>\n",
       "    </tr>\n",
       "    <tr>\n",
       "      <th>Bernal Heights</th>\n",
       "      <td>37.728630</td>\n",
       "      <td>-122.443050</td>\n",
       "      <td>NaN</td>\n",
       "      <td>NaN</td>\n",
       "      <td>NaN</td>\n",
       "      <td>NaN</td>\n",
       "    </tr>\n",
       "  </tbody>\n",
       "</table>\n",
       "</div>"
      ],
      "text/plain": [
       "                       Lat         Lon         year  sale_price_sqr_foot  \\\n",
       "Alamo Square     37.791012 -122.402100  2013.000000           366.020712   \n",
       "Anza Vista       37.779598 -122.443451  2013.333333           373.382198   \n",
       "Bayview          37.734670 -122.401060  2012.000000           204.588623   \n",
       "Bayview Heights  37.728740 -122.410980  2015.000000           590.792839   \n",
       "Bernal Heights   37.728630 -122.443050          NaN                  NaN   \n",
       "\n",
       "                 housing_units   gross_rent  \n",
       "Alamo Square          378401.0  2817.285714  \n",
       "Anza Vista            379050.0  3031.833333  \n",
       "Bayview               376454.0  2318.400000  \n",
       "Bayview Heights       382295.0  3739.000000  \n",
       "Bernal Heights             NaN          NaN  "
      ]
     },
     "metadata": {},
     "output_type": "display_data"
    },
    {
     "data": {
      "text/html": [
       "<div>\n",
       "<style scoped>\n",
       "    .dataframe tbody tr th:only-of-type {\n",
       "        vertical-align: middle;\n",
       "    }\n",
       "\n",
       "    .dataframe tbody tr th {\n",
       "        vertical-align: top;\n",
       "    }\n",
       "\n",
       "    .dataframe thead th {\n",
       "        text-align: right;\n",
       "    }\n",
       "</style>\n",
       "<table border=\"1\" class=\"dataframe\">\n",
       "  <thead>\n",
       "    <tr style=\"text-align: right;\">\n",
       "      <th></th>\n",
       "      <th>Lat</th>\n",
       "      <th>Lon</th>\n",
       "      <th>year</th>\n",
       "      <th>sale_price_sqr_foot</th>\n",
       "      <th>housing_units</th>\n",
       "      <th>gross_rent</th>\n",
       "    </tr>\n",
       "  </thead>\n",
       "  <tbody>\n",
       "    <tr>\n",
       "      <th>Yerba Buena</th>\n",
       "      <td>37.79298</td>\n",
       "      <td>-122.39636</td>\n",
       "      <td>2012.5</td>\n",
       "      <td>576.709848</td>\n",
       "      <td>377427.5</td>\n",
       "      <td>2555.166667</td>\n",
       "    </tr>\n",
       "    <tr>\n",
       "      <th>Bernal Heights</th>\n",
       "      <td>NaN</td>\n",
       "      <td>NaN</td>\n",
       "      <td>2013.5</td>\n",
       "      <td>576.746488</td>\n",
       "      <td>379374.5</td>\n",
       "      <td>3080.333333</td>\n",
       "    </tr>\n",
       "    <tr>\n",
       "      <th>Downtown</th>\n",
       "      <td>NaN</td>\n",
       "      <td>NaN</td>\n",
       "      <td>2013.0</td>\n",
       "      <td>391.434378</td>\n",
       "      <td>378401.0</td>\n",
       "      <td>2817.285714</td>\n",
       "    </tr>\n",
       "    <tr>\n",
       "      <th>Ingleside</th>\n",
       "      <td>NaN</td>\n",
       "      <td>NaN</td>\n",
       "      <td>2012.5</td>\n",
       "      <td>367.895144</td>\n",
       "      <td>377427.5</td>\n",
       "      <td>2509.000000</td>\n",
       "    </tr>\n",
       "    <tr>\n",
       "      <th>Outer Richmond</th>\n",
       "      <td>NaN</td>\n",
       "      <td>NaN</td>\n",
       "      <td>2013.0</td>\n",
       "      <td>473.900773</td>\n",
       "      <td>378401.0</td>\n",
       "      <td>2817.285714</td>\n",
       "    </tr>\n",
       "  </tbody>\n",
       "</table>\n",
       "</div>"
      ],
      "text/plain": [
       "                      Lat        Lon    year  sale_price_sqr_foot  \\\n",
       "Yerba Buena      37.79298 -122.39636  2012.5           576.709848   \n",
       "Bernal Heights        NaN        NaN  2013.5           576.746488   \n",
       "Downtown              NaN        NaN  2013.0           391.434378   \n",
       "Ingleside             NaN        NaN  2012.5           367.895144   \n",
       "Outer Richmond        NaN        NaN  2013.0           473.900773   \n",
       "\n",
       "                 housing_units   gross_rent  \n",
       "Yerba Buena           377427.5  2555.166667  \n",
       "Bernal Heights        379374.5  3080.333333  \n",
       "Downtown              378401.0  2817.285714  \n",
       "Ingleside             377427.5  2509.000000  \n",
       "Outer Richmond        378401.0  2817.285714  "
      ]
     },
     "metadata": {},
     "output_type": "display_data"
    }
   ],
   "source": [
    "# Using the Pandas `concat` function, join the \n",
    "# neighborhood_locations_df and the all_neighborhood_info_df DataFrame\n",
    "# The axis of the concatenation is \"columns\".\n",
    "# The concat function will automatially combine columns with\n",
    "# identical information, while keeping the additional columns.\n",
    "all_neighborhoods_df = pd.concat(\n",
    "    [neighborhood_locations_df, all_neighborhood_info_df], \n",
    "    axis=\"columns\",\n",
    "    sort=False\n",
    ")\n",
    "\n",
    "# Review the resulting DataFrame\n",
    "display(all_neighborhoods_df.head())\n",
    "display(all_neighborhoods_df.tail())\n"
   ]
  },
  {
   "cell_type": "code",
   "execution_count": 61,
   "metadata": {},
   "outputs": [
    {
     "data": {
      "text/html": [
       "<div>\n",
       "<style scoped>\n",
       "    .dataframe tbody tr th:only-of-type {\n",
       "        vertical-align: middle;\n",
       "    }\n",
       "\n",
       "    .dataframe tbody tr th {\n",
       "        vertical-align: top;\n",
       "    }\n",
       "\n",
       "    .dataframe thead th {\n",
       "        text-align: right;\n",
       "    }\n",
       "</style>\n",
       "<table border=\"1\" class=\"dataframe\">\n",
       "  <thead>\n",
       "    <tr style=\"text-align: right;\">\n",
       "      <th></th>\n",
       "      <th>Neighborhood</th>\n",
       "      <th>Lat</th>\n",
       "      <th>Lon</th>\n",
       "      <th>year</th>\n",
       "      <th>sale_price_sqr_foot</th>\n",
       "      <th>housing_units</th>\n",
       "      <th>gross_rent</th>\n",
       "    </tr>\n",
       "  </thead>\n",
       "  <tbody>\n",
       "    <tr>\n",
       "      <th>0</th>\n",
       "      <td>Alamo Square</td>\n",
       "      <td>37.791012</td>\n",
       "      <td>-122.402100</td>\n",
       "      <td>2013.000000</td>\n",
       "      <td>366.020712</td>\n",
       "      <td>378401.0</td>\n",
       "      <td>2817.285714</td>\n",
       "    </tr>\n",
       "    <tr>\n",
       "      <th>1</th>\n",
       "      <td>Anza Vista</td>\n",
       "      <td>37.779598</td>\n",
       "      <td>-122.443451</td>\n",
       "      <td>2013.333333</td>\n",
       "      <td>373.382198</td>\n",
       "      <td>379050.0</td>\n",
       "      <td>3031.833333</td>\n",
       "    </tr>\n",
       "    <tr>\n",
       "      <th>2</th>\n",
       "      <td>Bayview</td>\n",
       "      <td>37.734670</td>\n",
       "      <td>-122.401060</td>\n",
       "      <td>2012.000000</td>\n",
       "      <td>204.588623</td>\n",
       "      <td>376454.0</td>\n",
       "      <td>2318.400000</td>\n",
       "    </tr>\n",
       "    <tr>\n",
       "      <th>3</th>\n",
       "      <td>Bayview Heights</td>\n",
       "      <td>37.728740</td>\n",
       "      <td>-122.410980</td>\n",
       "      <td>2015.000000</td>\n",
       "      <td>590.792839</td>\n",
       "      <td>382295.0</td>\n",
       "      <td>3739.000000</td>\n",
       "    </tr>\n",
       "    <tr>\n",
       "      <th>5</th>\n",
       "      <td>Buena Vista Park</td>\n",
       "      <td>37.768160</td>\n",
       "      <td>-122.439330</td>\n",
       "      <td>2012.833333</td>\n",
       "      <td>452.680591</td>\n",
       "      <td>378076.5</td>\n",
       "      <td>2698.833333</td>\n",
       "    </tr>\n",
       "  </tbody>\n",
       "</table>\n",
       "</div>"
      ],
      "text/plain": [
       "       Neighborhood        Lat         Lon         year  sale_price_sqr_foot  \\\n",
       "0      Alamo Square  37.791012 -122.402100  2013.000000           366.020712   \n",
       "1        Anza Vista  37.779598 -122.443451  2013.333333           373.382198   \n",
       "2           Bayview  37.734670 -122.401060  2012.000000           204.588623   \n",
       "3   Bayview Heights  37.728740 -122.410980  2015.000000           590.792839   \n",
       "5  Buena Vista Park  37.768160 -122.439330  2012.833333           452.680591   \n",
       "\n",
       "   housing_units   gross_rent  \n",
       "0       378401.0  2817.285714  \n",
       "1       379050.0  3031.833333  \n",
       "2       376454.0  2318.400000  \n",
       "3       382295.0  3739.000000  \n",
       "5       378076.5  2698.833333  "
      ]
     },
     "metadata": {},
     "output_type": "display_data"
    },
    {
     "data": {
      "text/html": [
       "<div>\n",
       "<style scoped>\n",
       "    .dataframe tbody tr th:only-of-type {\n",
       "        vertical-align: middle;\n",
       "    }\n",
       "\n",
       "    .dataframe tbody tr th {\n",
       "        vertical-align: top;\n",
       "    }\n",
       "\n",
       "    .dataframe thead th {\n",
       "        text-align: right;\n",
       "    }\n",
       "</style>\n",
       "<table border=\"1\" class=\"dataframe\">\n",
       "  <thead>\n",
       "    <tr style=\"text-align: right;\">\n",
       "      <th></th>\n",
       "      <th>Neighborhood</th>\n",
       "      <th>Lat</th>\n",
       "      <th>Lon</th>\n",
       "      <th>year</th>\n",
       "      <th>sale_price_sqr_foot</th>\n",
       "      <th>housing_units</th>\n",
       "      <th>gross_rent</th>\n",
       "    </tr>\n",
       "  </thead>\n",
       "  <tbody>\n",
       "    <tr>\n",
       "      <th>68</th>\n",
       "      <td>West Portal</td>\n",
       "      <td>37.74026</td>\n",
       "      <td>-122.463880</td>\n",
       "      <td>2012.25</td>\n",
       "      <td>498.488485</td>\n",
       "      <td>376940.75</td>\n",
       "      <td>2515.500000</td>\n",
       "    </tr>\n",
       "    <tr>\n",
       "      <th>69</th>\n",
       "      <td>Western Addition</td>\n",
       "      <td>37.79298</td>\n",
       "      <td>-122.435790</td>\n",
       "      <td>2012.50</td>\n",
       "      <td>307.562201</td>\n",
       "      <td>377427.50</td>\n",
       "      <td>2555.166667</td>\n",
       "    </tr>\n",
       "    <tr>\n",
       "      <th>70</th>\n",
       "      <td>Westwood Highlands</td>\n",
       "      <td>37.73470</td>\n",
       "      <td>-122.456854</td>\n",
       "      <td>2012.00</td>\n",
       "      <td>533.703935</td>\n",
       "      <td>376454.00</td>\n",
       "      <td>2250.500000</td>\n",
       "    </tr>\n",
       "    <tr>\n",
       "      <th>71</th>\n",
       "      <td>Westwood Park</td>\n",
       "      <td>37.73415</td>\n",
       "      <td>-122.457000</td>\n",
       "      <td>2015.00</td>\n",
       "      <td>687.087575</td>\n",
       "      <td>382295.00</td>\n",
       "      <td>3959.000000</td>\n",
       "    </tr>\n",
       "    <tr>\n",
       "      <th>72</th>\n",
       "      <td>Yerba Buena</td>\n",
       "      <td>37.79298</td>\n",
       "      <td>-122.396360</td>\n",
       "      <td>2012.50</td>\n",
       "      <td>576.709848</td>\n",
       "      <td>377427.50</td>\n",
       "      <td>2555.166667</td>\n",
       "    </tr>\n",
       "  </tbody>\n",
       "</table>\n",
       "</div>"
      ],
      "text/plain": [
       "          Neighborhood       Lat         Lon     year  sale_price_sqr_foot  \\\n",
       "68         West Portal  37.74026 -122.463880  2012.25           498.488485   \n",
       "69    Western Addition  37.79298 -122.435790  2012.50           307.562201   \n",
       "70  Westwood Highlands  37.73470 -122.456854  2012.00           533.703935   \n",
       "71       Westwood Park  37.73415 -122.457000  2015.00           687.087575   \n",
       "72         Yerba Buena  37.79298 -122.396360  2012.50           576.709848   \n",
       "\n",
       "    housing_units   gross_rent  \n",
       "68      376940.75  2515.500000  \n",
       "69      377427.50  2555.166667  \n",
       "70      376454.00  2250.500000  \n",
       "71      382295.00  3959.000000  \n",
       "72      377427.50  2555.166667  "
      ]
     },
     "metadata": {},
     "output_type": "display_data"
    }
   ],
   "source": [
    "# Call the dropna function to remove any neighborhoods that do not have data\n",
    "all_neighborhoods_df = all_neighborhoods_df.reset_index().dropna()\n",
    "\n",
    "# Rename the \"index\" column as \"Neighborhood\" for use in the Visualization\n",
    "all_neighborhoods_df = all_neighborhoods_df.rename(columns={\"index\": \"Neighborhood\"})\n",
    "\n",
    "# Review the resulting DataFrame\n",
    "display(all_neighborhoods_df.head())\n",
    "display(all_neighborhoods_df.tail())"
   ]
  },
  {
   "cell_type": "markdown",
   "metadata": {},
   "source": [
    "### Step 4: Using Plotly Express, create a `scatter_mapbox` for the `all_neighborhoods_df` DataFrame. Remember that you need your MapBox API key. Be sure to do the following:\n",
    "\n",
    "    * Set the `size` parameter to “sale_price_sqr_foot”.\n",
    "    * Set the `color` parameter to “gross_rent”.\n",
    "    * Set the `size_max` parameter to “25”.\n",
    "    * Set the `zoom` parameter to “11”.\n",
    "\n",
    "### Step 5: Style and format the line plot to ensure a professionally styled visualization.\n"
   ]
  },
  {
   "cell_type": "code",
   "execution_count": 62,
   "metadata": {},
   "outputs": [
    {
     "data": {
      "application/vnd.plotly.v1+json": {
       "config": {
        "plotlyServerURL": "https://plot.ly"
       },
       "data": [
        {
         "hovertemplate": "sale_price_sqr_foot=%{marker.size}<br>Lat=%{lat}<br>Lon=%{lon}<br>gross_rent=%{marker.color}<extra></extra>",
         "lat": [
          37.791012,
          37.779598,
          37.73467,
          37.72874,
          37.76816,
          37.77789,
          37.74961,
          37.75331,
          37.78553,
          37.79298,
          37.7228,
          37.72863,
          37.76964,
          37.75554,
          37.72874,
          37.79101,
          37.79101,
          37.75706,
          37.72863,
          37.757912,
          37.76525,
          37.76525,
          37.72551,
          37.72116,
          37.75416,
          37.74961,
          37.769112,
          37.74961,
          37.78553,
          37.80152,
          37.7789,
          37.79298,
          37.79972,
          37.71993,
          37.75331,
          37.73415,
          37.78323,
          37.75184,
          37.72863,
          37.79298,
          37.75331,
          37.80055,
          37.80055,
          37.71993,
          37.7228,
          37.7517,
          37.74961,
          37.79298,
          37.72838,
          37.74961,
          37.76355,
          37.73467,
          37.73196,
          37.78553,
          37.79298,
          37.73467,
          37.78323,
          37.79101,
          37.73415,
          37.80055,
          37.753311,
          37.79101,
          37.77951,
          37.72874,
          37.74026,
          37.79298,
          37.7347,
          37.73415,
          37.79298
         ],
         "legendgroup": "",
         "lon": [
          -122.4021,
          -122.443451,
          -122.40106,
          -122.41098,
          -122.43933,
          -122.44517,
          -122.48999,
          -122.44703,
          -122.456,
          -122.43579,
          -122.43869,
          -122.44305,
          -122.42611,
          -122.43779,
          -122.41098,
          -122.4021,
          -122.4021,
          -122.45509,
          -122.44305,
          -122.46402,
          -122.43596,
          -122.43596,
          -122.37178,
          -122.48707,
          -122.41947,
          -122.48999,
          -122.483566,
          -122.48997,
          -122.456,
          -122.45457,
          -122.45496,
          -122.43579,
          -122.46689,
          -122.46595,
          -122.44703,
          -122.457,
          -122.40065,
          -122.42522,
          -122.44305,
          -122.43579,
          -122.44703,
          -122.40433,
          -122.40433,
          -122.46595,
          -122.43869,
          -122.446,
          -122.48999,
          -122.43579,
          -122.47851,
          -122.48999,
          -122.45765,
          -122.40106,
          -122.38324,
          -122.456,
          -122.43579,
          -122.40106,
          -122.40065,
          -122.4021,
          -122.457,
          -122.40433,
          -122.447029,
          -122.4021,
          -122.42022,
          -122.41098,
          -122.46388,
          -122.43579,
          -122.456854,
          -122.457,
          -122.39636
         ],
         "marker": {
          "color": [
           2817.285714285714,
           3031.8333333333335,
           2318.4,
           3739,
           2698.8333333333335,
           2817.285714285714,
           2817.285714285714,
           2250.5,
           2472,
           2817.285714285714,
           2698.8333333333335,
           2016,
           2780.25,
           2817.285714285714,
           3031.8333333333335,
           2817.285714285714,
           2472,
           1781.5,
           2899.5,
           2601.4,
           2817.285714285714,
           2817.285714285714,
           2489,
           2960,
           2817.285714285714,
           3224,
           2817.285714285714,
           2817.285714285714,
           2817.285714285714,
           2555.1666666666665,
           2555.1666666666665,
           2817.285714285714,
           2817.285714285714,
           3414,
           2647.5,
           2155.25,
           2663.6666666666665,
           2555.1666666666665,
           3173.4,
           2817.285714285714,
           2817.285714285714,
           2990.8,
           2818.4,
           2434,
           2995.75,
           2817.285714285714,
           2817.285714285714,
           2817.285714285714,
           2817.285714285714,
           2555.1666666666665,
           2817.285714285714,
           2318.4,
           2817.285714285714,
           2817.285714285714,
           2817.285714285714,
           3528,
           2099,
           2817.285714285714,
           2899.5,
           2817.285714285714,
           2817.285714285714,
           2555.1666666666665,
           2817.285714285714,
           3657,
           2515.5,
           2555.1666666666665,
           2250.5,
           3959,
           2555.1666666666665
          ],
          "coloraxis": "coloraxis",
          "size": [
           366.02071153227644,
           373.38219782647707,
           204.58862288246596,
           590.7928388746803,
           452.6805909308441,
           394.42239878005887,
           423.6879277015824,
           487.2448860262576,
           587.5390673661739,
           665.9640415783227,
           303.00418440849427,
           434.99173944522124,
           502.59915555623616,
           642.2486706357391,
           388.7659270023075,
           391.36253308010487,
           455.83621223779153,
           321.84083657398736,
           623.8261775374349,
           639.3935574881154,
           449.5447622856192,
           355.93282794805776,
           170.62491987132685,
           384.7979281346047,
           397.67371473613446,
           519.3856038526768,
           378.59431396136455,
           413.66751546215943,
           529.3841850673389,
           409.95435219297514,
           478.2285530213679,
           539.237968878326,
           583.7492694814548,
           788.8448175872469,
           550.5103482917151,
           779.810842264425,
           566.1922135483312,
           418.9156225067234,
           523.4662013248023,
           458.2040944846015,
           542.4429128151736,
           411.646875881678,
           498.2697550078768,
           330.0973846552545,
           242.37095202049665,
           485.0270126111035,
           394.21903228550775,
           689.5558168113663,
           373.732856371763,
           336.172661037069,
           632.740453508577,
           327.11392534647274,
           662.0136128276529,
           675.3502120510033,
           608.9832172374425,
           170.2925485152069,
           650.1244791945729,
           570.2714266991687,
           528.3183317138463,
           676.5065775293255,
           469.39862649935156,
           903.9932576720645,
           404.1501801622257,
           301.46617997450267,
           498.48848482950103,
           307.5622009799608,
           533.7039354359513,
           687.0875745178322,
           576.709848378276
          ],
          "sizemode": "area",
          "sizeref": 1.4463892122753033
         },
         "mode": "markers",
         "name": "",
         "showlegend": false,
         "subplot": "mapbox",
         "type": "scattermapbox"
        }
       ],
       "layout": {
        "coloraxis": {
         "colorbar": {
          "title": {
           "text": "gross_rent"
          }
         },
         "colorscale": [
          [
           0,
           "#0d0887"
          ],
          [
           0.1111111111111111,
           "#46039f"
          ],
          [
           0.2222222222222222,
           "#7201a8"
          ],
          [
           0.3333333333333333,
           "#9c179e"
          ],
          [
           0.4444444444444444,
           "#bd3786"
          ],
          [
           0.5555555555555556,
           "#d8576b"
          ],
          [
           0.6666666666666666,
           "#ed7953"
          ],
          [
           0.7777777777777778,
           "#fb9f3a"
          ],
          [
           0.8888888888888888,
           "#fdca26"
          ],
          [
           1,
           "#f0f921"
          ]
         ]
        },
        "height": 700,
        "legend": {
         "itemsizing": "constant",
         "tracegroupgap": 0
        },
        "mapbox": {
         "accesstoken": "pk.eyJ1IjoicnlsZXhpdmljayIsImEiOiJja3Fnb3RzdjcweWZyMnVubm93cGYwbTVjIn0.ODUtlqm9wiDQcg5_YVzKOQ",
         "center": {
          "lat": 37.76064079710145,
          "lon": -122.43826449275363
         },
         "domain": {
          "x": [
           0,
           1
          ],
          "y": [
           0,
           1
          ]
         },
         "zoom": 11
        },
        "template": {
         "data": {
          "bar": [
           {
            "error_x": {
             "color": "#2a3f5f"
            },
            "error_y": {
             "color": "#2a3f5f"
            },
            "marker": {
             "line": {
              "color": "#E5ECF6",
              "width": 0.5
             },
             "pattern": {
              "fillmode": "overlay",
              "size": 10,
              "solidity": 0.2
             }
            },
            "type": "bar"
           }
          ],
          "barpolar": [
           {
            "marker": {
             "line": {
              "color": "#E5ECF6",
              "width": 0.5
             },
             "pattern": {
              "fillmode": "overlay",
              "size": 10,
              "solidity": 0.2
             }
            },
            "type": "barpolar"
           }
          ],
          "carpet": [
           {
            "aaxis": {
             "endlinecolor": "#2a3f5f",
             "gridcolor": "white",
             "linecolor": "white",
             "minorgridcolor": "white",
             "startlinecolor": "#2a3f5f"
            },
            "baxis": {
             "endlinecolor": "#2a3f5f",
             "gridcolor": "white",
             "linecolor": "white",
             "minorgridcolor": "white",
             "startlinecolor": "#2a3f5f"
            },
            "type": "carpet"
           }
          ],
          "choropleth": [
           {
            "colorbar": {
             "outlinewidth": 0,
             "ticks": ""
            },
            "type": "choropleth"
           }
          ],
          "contour": [
           {
            "colorbar": {
             "outlinewidth": 0,
             "ticks": ""
            },
            "colorscale": [
             [
              0,
              "#0d0887"
             ],
             [
              0.1111111111111111,
              "#46039f"
             ],
             [
              0.2222222222222222,
              "#7201a8"
             ],
             [
              0.3333333333333333,
              "#9c179e"
             ],
             [
              0.4444444444444444,
              "#bd3786"
             ],
             [
              0.5555555555555556,
              "#d8576b"
             ],
             [
              0.6666666666666666,
              "#ed7953"
             ],
             [
              0.7777777777777778,
              "#fb9f3a"
             ],
             [
              0.8888888888888888,
              "#fdca26"
             ],
             [
              1,
              "#f0f921"
             ]
            ],
            "type": "contour"
           }
          ],
          "contourcarpet": [
           {
            "colorbar": {
             "outlinewidth": 0,
             "ticks": ""
            },
            "type": "contourcarpet"
           }
          ],
          "heatmap": [
           {
            "colorbar": {
             "outlinewidth": 0,
             "ticks": ""
            },
            "colorscale": [
             [
              0,
              "#0d0887"
             ],
             [
              0.1111111111111111,
              "#46039f"
             ],
             [
              0.2222222222222222,
              "#7201a8"
             ],
             [
              0.3333333333333333,
              "#9c179e"
             ],
             [
              0.4444444444444444,
              "#bd3786"
             ],
             [
              0.5555555555555556,
              "#d8576b"
             ],
             [
              0.6666666666666666,
              "#ed7953"
             ],
             [
              0.7777777777777778,
              "#fb9f3a"
             ],
             [
              0.8888888888888888,
              "#fdca26"
             ],
             [
              1,
              "#f0f921"
             ]
            ],
            "type": "heatmap"
           }
          ],
          "heatmapgl": [
           {
            "colorbar": {
             "outlinewidth": 0,
             "ticks": ""
            },
            "colorscale": [
             [
              0,
              "#0d0887"
             ],
             [
              0.1111111111111111,
              "#46039f"
             ],
             [
              0.2222222222222222,
              "#7201a8"
             ],
             [
              0.3333333333333333,
              "#9c179e"
             ],
             [
              0.4444444444444444,
              "#bd3786"
             ],
             [
              0.5555555555555556,
              "#d8576b"
             ],
             [
              0.6666666666666666,
              "#ed7953"
             ],
             [
              0.7777777777777778,
              "#fb9f3a"
             ],
             [
              0.8888888888888888,
              "#fdca26"
             ],
             [
              1,
              "#f0f921"
             ]
            ],
            "type": "heatmapgl"
           }
          ],
          "histogram": [
           {
            "marker": {
             "pattern": {
              "fillmode": "overlay",
              "size": 10,
              "solidity": 0.2
             }
            },
            "type": "histogram"
           }
          ],
          "histogram2d": [
           {
            "colorbar": {
             "outlinewidth": 0,
             "ticks": ""
            },
            "colorscale": [
             [
              0,
              "#0d0887"
             ],
             [
              0.1111111111111111,
              "#46039f"
             ],
             [
              0.2222222222222222,
              "#7201a8"
             ],
             [
              0.3333333333333333,
              "#9c179e"
             ],
             [
              0.4444444444444444,
              "#bd3786"
             ],
             [
              0.5555555555555556,
              "#d8576b"
             ],
             [
              0.6666666666666666,
              "#ed7953"
             ],
             [
              0.7777777777777778,
              "#fb9f3a"
             ],
             [
              0.8888888888888888,
              "#fdca26"
             ],
             [
              1,
              "#f0f921"
             ]
            ],
            "type": "histogram2d"
           }
          ],
          "histogram2dcontour": [
           {
            "colorbar": {
             "outlinewidth": 0,
             "ticks": ""
            },
            "colorscale": [
             [
              0,
              "#0d0887"
             ],
             [
              0.1111111111111111,
              "#46039f"
             ],
             [
              0.2222222222222222,
              "#7201a8"
             ],
             [
              0.3333333333333333,
              "#9c179e"
             ],
             [
              0.4444444444444444,
              "#bd3786"
             ],
             [
              0.5555555555555556,
              "#d8576b"
             ],
             [
              0.6666666666666666,
              "#ed7953"
             ],
             [
              0.7777777777777778,
              "#fb9f3a"
             ],
             [
              0.8888888888888888,
              "#fdca26"
             ],
             [
              1,
              "#f0f921"
             ]
            ],
            "type": "histogram2dcontour"
           }
          ],
          "mesh3d": [
           {
            "colorbar": {
             "outlinewidth": 0,
             "ticks": ""
            },
            "type": "mesh3d"
           }
          ],
          "parcoords": [
           {
            "line": {
             "colorbar": {
              "outlinewidth": 0,
              "ticks": ""
             }
            },
            "type": "parcoords"
           }
          ],
          "pie": [
           {
            "automargin": true,
            "type": "pie"
           }
          ],
          "scatter": [
           {
            "marker": {
             "colorbar": {
              "outlinewidth": 0,
              "ticks": ""
             }
            },
            "type": "scatter"
           }
          ],
          "scatter3d": [
           {
            "line": {
             "colorbar": {
              "outlinewidth": 0,
              "ticks": ""
             }
            },
            "marker": {
             "colorbar": {
              "outlinewidth": 0,
              "ticks": ""
             }
            },
            "type": "scatter3d"
           }
          ],
          "scattercarpet": [
           {
            "marker": {
             "colorbar": {
              "outlinewidth": 0,
              "ticks": ""
             }
            },
            "type": "scattercarpet"
           }
          ],
          "scattergeo": [
           {
            "marker": {
             "colorbar": {
              "outlinewidth": 0,
              "ticks": ""
             }
            },
            "type": "scattergeo"
           }
          ],
          "scattergl": [
           {
            "marker": {
             "colorbar": {
              "outlinewidth": 0,
              "ticks": ""
             }
            },
            "type": "scattergl"
           }
          ],
          "scattermapbox": [
           {
            "marker": {
             "colorbar": {
              "outlinewidth": 0,
              "ticks": ""
             }
            },
            "type": "scattermapbox"
           }
          ],
          "scatterpolar": [
           {
            "marker": {
             "colorbar": {
              "outlinewidth": 0,
              "ticks": ""
             }
            },
            "type": "scatterpolar"
           }
          ],
          "scatterpolargl": [
           {
            "marker": {
             "colorbar": {
              "outlinewidth": 0,
              "ticks": ""
             }
            },
            "type": "scatterpolargl"
           }
          ],
          "scatterternary": [
           {
            "marker": {
             "colorbar": {
              "outlinewidth": 0,
              "ticks": ""
             }
            },
            "type": "scatterternary"
           }
          ],
          "surface": [
           {
            "colorbar": {
             "outlinewidth": 0,
             "ticks": ""
            },
            "colorscale": [
             [
              0,
              "#0d0887"
             ],
             [
              0.1111111111111111,
              "#46039f"
             ],
             [
              0.2222222222222222,
              "#7201a8"
             ],
             [
              0.3333333333333333,
              "#9c179e"
             ],
             [
              0.4444444444444444,
              "#bd3786"
             ],
             [
              0.5555555555555556,
              "#d8576b"
             ],
             [
              0.6666666666666666,
              "#ed7953"
             ],
             [
              0.7777777777777778,
              "#fb9f3a"
             ],
             [
              0.8888888888888888,
              "#fdca26"
             ],
             [
              1,
              "#f0f921"
             ]
            ],
            "type": "surface"
           }
          ],
          "table": [
           {
            "cells": {
             "fill": {
              "color": "#EBF0F8"
             },
             "line": {
              "color": "white"
             }
            },
            "header": {
             "fill": {
              "color": "#C8D4E3"
             },
             "line": {
              "color": "white"
             }
            },
            "type": "table"
           }
          ]
         },
         "layout": {
          "annotationdefaults": {
           "arrowcolor": "#2a3f5f",
           "arrowhead": 0,
           "arrowwidth": 1
          },
          "autotypenumbers": "strict",
          "coloraxis": {
           "colorbar": {
            "outlinewidth": 0,
            "ticks": ""
           }
          },
          "colorscale": {
           "diverging": [
            [
             0,
             "#8e0152"
            ],
            [
             0.1,
             "#c51b7d"
            ],
            [
             0.2,
             "#de77ae"
            ],
            [
             0.3,
             "#f1b6da"
            ],
            [
             0.4,
             "#fde0ef"
            ],
            [
             0.5,
             "#f7f7f7"
            ],
            [
             0.6,
             "#e6f5d0"
            ],
            [
             0.7,
             "#b8e186"
            ],
            [
             0.8,
             "#7fbc41"
            ],
            [
             0.9,
             "#4d9221"
            ],
            [
             1,
             "#276419"
            ]
           ],
           "sequential": [
            [
             0,
             "#0d0887"
            ],
            [
             0.1111111111111111,
             "#46039f"
            ],
            [
             0.2222222222222222,
             "#7201a8"
            ],
            [
             0.3333333333333333,
             "#9c179e"
            ],
            [
             0.4444444444444444,
             "#bd3786"
            ],
            [
             0.5555555555555556,
             "#d8576b"
            ],
            [
             0.6666666666666666,
             "#ed7953"
            ],
            [
             0.7777777777777778,
             "#fb9f3a"
            ],
            [
             0.8888888888888888,
             "#fdca26"
            ],
            [
             1,
             "#f0f921"
            ]
           ],
           "sequentialminus": [
            [
             0,
             "#0d0887"
            ],
            [
             0.1111111111111111,
             "#46039f"
            ],
            [
             0.2222222222222222,
             "#7201a8"
            ],
            [
             0.3333333333333333,
             "#9c179e"
            ],
            [
             0.4444444444444444,
             "#bd3786"
            ],
            [
             0.5555555555555556,
             "#d8576b"
            ],
            [
             0.6666666666666666,
             "#ed7953"
            ],
            [
             0.7777777777777778,
             "#fb9f3a"
            ],
            [
             0.8888888888888888,
             "#fdca26"
            ],
            [
             1,
             "#f0f921"
            ]
           ]
          },
          "colorway": [
           "#636efa",
           "#EF553B",
           "#00cc96",
           "#ab63fa",
           "#FFA15A",
           "#19d3f3",
           "#FF6692",
           "#B6E880",
           "#FF97FF",
           "#FECB52"
          ],
          "font": {
           "color": "#2a3f5f"
          },
          "geo": {
           "bgcolor": "white",
           "lakecolor": "white",
           "landcolor": "#E5ECF6",
           "showlakes": true,
           "showland": true,
           "subunitcolor": "white"
          },
          "hoverlabel": {
           "align": "left"
          },
          "hovermode": "closest",
          "mapbox": {
           "style": "light"
          },
          "paper_bgcolor": "white",
          "plot_bgcolor": "#E5ECF6",
          "polar": {
           "angularaxis": {
            "gridcolor": "white",
            "linecolor": "white",
            "ticks": ""
           },
           "bgcolor": "#E5ECF6",
           "radialaxis": {
            "gridcolor": "white",
            "linecolor": "white",
            "ticks": ""
           }
          },
          "scene": {
           "xaxis": {
            "backgroundcolor": "#E5ECF6",
            "gridcolor": "white",
            "gridwidth": 2,
            "linecolor": "white",
            "showbackground": true,
            "ticks": "",
            "zerolinecolor": "white"
           },
           "yaxis": {
            "backgroundcolor": "#E5ECF6",
            "gridcolor": "white",
            "gridwidth": 2,
            "linecolor": "white",
            "showbackground": true,
            "ticks": "",
            "zerolinecolor": "white"
           },
           "zaxis": {
            "backgroundcolor": "#E5ECF6",
            "gridcolor": "white",
            "gridwidth": 2,
            "linecolor": "white",
            "showbackground": true,
            "ticks": "",
            "zerolinecolor": "white"
           }
          },
          "shapedefaults": {
           "line": {
            "color": "#2a3f5f"
           }
          },
          "ternary": {
           "aaxis": {
            "gridcolor": "white",
            "linecolor": "white",
            "ticks": ""
           },
           "baxis": {
            "gridcolor": "white",
            "linecolor": "white",
            "ticks": ""
           },
           "bgcolor": "#E5ECF6",
           "caxis": {
            "gridcolor": "white",
            "linecolor": "white",
            "ticks": ""
           }
          },
          "title": {
           "x": 0.05
          },
          "xaxis": {
           "automargin": true,
           "gridcolor": "white",
           "linecolor": "white",
           "ticks": "",
           "title": {
            "standoff": 15
           },
           "zerolinecolor": "white",
           "zerolinewidth": 2
          },
          "yaxis": {
           "automargin": true,
           "gridcolor": "white",
           "linecolor": "white",
           "ticks": "",
           "title": {
            "standoff": 15
           },
           "zerolinecolor": "white",
           "zerolinewidth": 2
          }
         }
        },
        "title": {
         "text": "Average Sale Price Per Square Foot and Gross Rent in San Francisco"
        },
        "width": 700
       }
      },
      "image/png": "[encoded data removed]",
      "text/html": [
       "<div>                            <div id=\"88df78a0-0cdd-4615-9c5b-948b1b6e7370\" class=\"plotly-graph-div\" style=\"height:700px; width:700px;\"></div>            <script type=\"text/javascript\">                require([\"plotly\"], function(Plotly) {                    window.PLOTLYENV=window.PLOTLYENV || {};                                    if (document.getElementById(\"88df78a0-0cdd-4615-9c5b-948b1b6e7370\")) {                    Plotly.newPlot(                        \"88df78a0-0cdd-4615-9c5b-948b1b6e7370\",                        [{\"hovertemplate\":\"sale_price_sqr_foot=%{marker.size}<br>Lat=%{lat}<br>Lon=%{lon}<br>gross_rent=%{marker.color}<extra></extra>\",\"lat\":[37.791012,37.779598,37.73467,37.72874,37.76816,37.77789,37.74961,37.75331,37.78553,37.79298,37.7228,37.72863,37.76964,37.75554,37.72874,37.79101,37.79101,37.75706,37.72863,37.757912,37.76525,37.76525,37.72551,37.72116,37.75416,37.74961,37.769112,37.74961,37.78553,37.80152,37.7789,37.79298,37.79972,37.71993,37.75331,37.73415,37.78323,37.75184,37.72863,37.79298,37.75331,37.80055,37.80055,37.71993,37.7228,37.7517,37.74961,37.79298,37.72838,37.74961,37.76355,37.73467,37.73196,37.78553,37.79298,37.73467,37.78323,37.79101,37.73415,37.80055,37.753311,37.79101,37.77951,37.72874,37.74026,37.79298,37.7347,37.73415,37.79298],\"legendgroup\":\"\",\"lon\":[-122.4021,-122.443451,-122.40106,-122.41098,-122.43933,-122.44517,-122.48999,-122.44703,-122.456,-122.43579,-122.43869,-122.44305,-122.42611,-122.43779,-122.41098,-122.4021,-122.4021,-122.45509,-122.44305,-122.46402,-122.43596,-122.43596,-122.37178,-122.48707,-122.41947,-122.48999,-122.483566,-122.48997,-122.456,-122.45457,-122.45496,-122.43579,-122.46689,-122.46595,-122.44703,-122.457,-122.40065,-122.42522,-122.44305,-122.43579,-122.44703,-122.40433,-122.40433,-122.46595,-122.43869,-122.446,-122.48999,-122.43579,-122.47851,-122.48999,-122.45765,-122.40106,-122.38324,-122.456,-122.43579,-122.40106,-122.40065,-122.4021,-122.457,-122.40433,-122.447029,-122.4021,-122.42022,-122.41098,-122.46388,-122.43579,-122.456854,-122.457,-122.39636],\"marker\":{\"color\":[2817.285714285714,3031.8333333333335,2318.4,3739.0,2698.8333333333335,2817.285714285714,2817.285714285714,2250.5,2472.0,2817.285714285714,2698.8333333333335,2016.0,2780.25,2817.285714285714,3031.8333333333335,2817.285714285714,2472.0,1781.5,2899.5,2601.4,2817.285714285714,2817.285714285714,2489.0,2960.0,2817.285714285714,3224.0,2817.285714285714,2817.285714285714,2817.285714285714,2555.1666666666665,2555.1666666666665,2817.285714285714,2817.285714285714,3414.0,2647.5,2155.25,2663.6666666666665,2555.1666666666665,3173.4,2817.285714285714,2817.285714285714,2990.8,2818.4,2434.0,2995.75,2817.285714285714,2817.285714285714,2817.285714285714,2817.285714285714,2555.1666666666665,2817.285714285714,2318.4,2817.285714285714,2817.285714285714,2817.285714285714,3528.0,2099.0,2817.285714285714,2899.5,2817.285714285714,2817.285714285714,2555.1666666666665,2817.285714285714,3657.0,2515.5,2555.1666666666665,2250.5,3959.0,2555.1666666666665],\"coloraxis\":\"coloraxis\",\"size\":[366.02071153227644,373.38219782647707,204.58862288246596,590.7928388746803,452.6805909308441,394.42239878005887,423.6879277015824,487.2448860262576,587.5390673661739,665.9640415783227,303.00418440849427,434.99173944522124,502.59915555623616,642.2486706357391,388.7659270023075,391.36253308010487,455.83621223779153,321.84083657398736,623.8261775374349,639.3935574881154,449.5447622856192,355.93282794805776,170.62491987132685,384.7979281346047,397.67371473613446,519.3856038526768,378.59431396136455,413.66751546215943,529.3841850673389,409.95435219297514,478.2285530213679,539.237968878326,583.7492694814548,788.8448175872469,550.5103482917151,779.810842264425,566.1922135483312,418.9156225067234,523.4662013248023,458.2040944846015,542.4429128151736,411.646875881678,498.2697550078768,330.0973846552545,242.37095202049665,485.0270126111035,394.21903228550775,689.5558168113663,373.732856371763,336.172661037069,632.740453508577,327.11392534647274,662.0136128276529,675.3502120510033,608.9832172374425,170.2925485152069,650.1244791945729,570.2714266991687,528.3183317138463,676.5065775293255,469.39862649935156,903.9932576720645,404.1501801622257,301.46617997450267,498.48848482950103,307.5622009799608,533.7039354359513,687.0875745178322,576.709848378276],\"sizemode\":\"area\",\"sizeref\":1.4463892122753033},\"mode\":\"markers\",\"name\":\"\",\"showlegend\":false,\"subplot\":\"mapbox\",\"type\":\"scattermapbox\"}],                        {\"coloraxis\":{\"colorbar\":{\"title\":{\"text\":\"gross_rent\"}},\"colorscale\":[[0.0,\"#0d0887\"],[0.1111111111111111,\"#46039f\"],[0.2222222222222222,\"#7201a8\"],[0.3333333333333333,\"#9c179e\"],[0.4444444444444444,\"#bd3786\"],[0.5555555555555556,\"#d8576b\"],[0.6666666666666666,\"#ed7953\"],[0.7777777777777778,\"#fb9f3a\"],[0.8888888888888888,\"#fdca26\"],[1.0,\"#f0f921\"]]},\"height\":700,\"legend\":{\"itemsizing\":\"constant\",\"tracegroupgap\":0},\"mapbox\":{\"accesstoken\":\"pk.eyJ1IjoicnlsZXhpdmljayIsImEiOiJja3Fnb3RzdjcweWZyMnVubm93cGYwbTVjIn0.ODUtlqm9wiDQcg5_YVzKOQ\",\"center\":{\"lat\":37.76064079710145,\"lon\":-122.43826449275363},\"domain\":{\"x\":[0.0,1.0],\"y\":[0.0,1.0]},\"zoom\":11},\"template\":{\"data\":{\"bar\":[{\"error_x\":{\"color\":\"#2a3f5f\"},\"error_y\":{\"color\":\"#2a3f5f\"},\"marker\":{\"line\":{\"color\":\"#E5ECF6\",\"width\":0.5},\"pattern\":{\"fillmode\":\"overlay\",\"size\":10,\"solidity\":0.2}},\"type\":\"bar\"}],\"barpolar\":[{\"marker\":{\"line\":{\"color\":\"#E5ECF6\",\"width\":0.5},\"pattern\":{\"fillmode\":\"overlay\",\"size\":10,\"solidity\":0.2}},\"type\":\"barpolar\"}],\"carpet\":[{\"aaxis\":{\"endlinecolor\":\"#2a3f5f\",\"gridcolor\":\"white\",\"linecolor\":\"white\",\"minorgridcolor\":\"white\",\"startlinecolor\":\"#2a3f5f\"},\"baxis\":{\"endlinecolor\":\"#2a3f5f\",\"gridcolor\":\"white\",\"linecolor\":\"white\",\"minorgridcolor\":\"white\",\"startlinecolor\":\"#2a3f5f\"},\"type\":\"carpet\"}],\"choropleth\":[{\"colorbar\":{\"outlinewidth\":0,\"ticks\":\"\"},\"type\":\"choropleth\"}],\"contour\":[{\"colorbar\":{\"outlinewidth\":0,\"ticks\":\"\"},\"colorscale\":[[0.0,\"#0d0887\"],[0.1111111111111111,\"#46039f\"],[0.2222222222222222,\"#7201a8\"],[0.3333333333333333,\"#9c179e\"],[0.4444444444444444,\"#bd3786\"],[0.5555555555555556,\"#d8576b\"],[0.6666666666666666,\"#ed7953\"],[0.7777777777777778,\"#fb9f3a\"],[0.8888888888888888,\"#fdca26\"],[1.0,\"#f0f921\"]],\"type\":\"contour\"}],\"contourcarpet\":[{\"colorbar\":{\"outlinewidth\":0,\"ticks\":\"\"},\"type\":\"contourcarpet\"}],\"heatmap\":[{\"colorbar\":{\"outlinewidth\":0,\"ticks\":\"\"},\"colorscale\":[[0.0,\"#0d0887\"],[0.1111111111111111,\"#46039f\"],[0.2222222222222222,\"#7201a8\"],[0.3333333333333333,\"#9c179e\"],[0.4444444444444444,\"#bd3786\"],[0.5555555555555556,\"#d8576b\"],[0.6666666666666666,\"#ed7953\"],[0.7777777777777778,\"#fb9f3a\"],[0.8888888888888888,\"#fdca26\"],[1.0,\"#f0f921\"]],\"type\":\"heatmap\"}],\"heatmapgl\":[{\"colorbar\":{\"outlinewidth\":0,\"ticks\":\"\"},\"colorscale\":[[0.0,\"#0d0887\"],[0.1111111111111111,\"#46039f\"],[0.2222222222222222,\"#7201a8\"],[0.3333333333333333,\"#9c179e\"],[0.4444444444444444,\"#bd3786\"],[0.5555555555555556,\"#d8576b\"],[0.6666666666666666,\"#ed7953\"],[0.7777777777777778,\"#fb9f3a\"],[0.8888888888888888,\"#fdca26\"],[1.0,\"#f0f921\"]],\"type\":\"heatmapgl\"}],\"histogram\":[{\"marker\":{\"pattern\":{\"fillmode\":\"overlay\",\"size\":10,\"solidity\":0.2}},\"type\":\"histogram\"}],\"histogram2d\":[{\"colorbar\":{\"outlinewidth\":0,\"ticks\":\"\"},\"colorscale\":[[0.0,\"#0d0887\"],[0.1111111111111111,\"#46039f\"],[0.2222222222222222,\"#7201a8\"],[0.3333333333333333,\"#9c179e\"],[0.4444444444444444,\"#bd3786\"],[0.5555555555555556,\"#d8576b\"],[0.6666666666666666,\"#ed7953\"],[0.7777777777777778,\"#fb9f3a\"],[0.8888888888888888,\"#fdca26\"],[1.0,\"#f0f921\"]],\"type\":\"histogram2d\"}],\"histogram2dcontour\":[{\"colorbar\":{\"outlinewidth\":0,\"ticks\":\"\"},\"colorscale\":[[0.0,\"#0d0887\"],[0.1111111111111111,\"#46039f\"],[0.2222222222222222,\"#7201a8\"],[0.3333333333333333,\"#9c179e\"],[0.4444444444444444,\"#bd3786\"],[0.5555555555555556,\"#d8576b\"],[0.6666666666666666,\"#ed7953\"],[0.7777777777777778,\"#fb9f3a\"],[0.8888888888888888,\"#fdca26\"],[1.0,\"#f0f921\"]],\"type\":\"histogram2dcontour\"}],\"mesh3d\":[{\"colorbar\":{\"outlinewidth\":0,\"ticks\":\"\"},\"type\":\"mesh3d\"}],\"parcoords\":[{\"line\":{\"colorbar\":{\"outlinewidth\":0,\"ticks\":\"\"}},\"type\":\"parcoords\"}],\"pie\":[{\"automargin\":true,\"type\":\"pie\"}],\"scatter\":[{\"marker\":{\"colorbar\":{\"outlinewidth\":0,\"ticks\":\"\"}},\"type\":\"scatter\"}],\"scatter3d\":[{\"line\":{\"colorbar\":{\"outlinewidth\":0,\"ticks\":\"\"}},\"marker\":{\"colorbar\":{\"outlinewidth\":0,\"ticks\":\"\"}},\"type\":\"scatter3d\"}],\"scattercarpet\":[{\"marker\":{\"colorbar\":{\"outlinewidth\":0,\"ticks\":\"\"}},\"type\":\"scattercarpet\"}],\"scattergeo\":[{\"marker\":{\"colorbar\":{\"outlinewidth\":0,\"ticks\":\"\"}},\"type\":\"scattergeo\"}],\"scattergl\":[{\"marker\":{\"colorbar\":{\"outlinewidth\":0,\"ticks\":\"\"}},\"type\":\"scattergl\"}],\"scattermapbox\":[{\"marker\":{\"colorbar\":{\"outlinewidth\":0,\"ticks\":\"\"}},\"type\":\"scattermapbox\"}],\"scatterpolar\":[{\"marker\":{\"colorbar\":{\"outlinewidth\":0,\"ticks\":\"\"}},\"type\":\"scatterpolar\"}],\"scatterpolargl\":[{\"marker\":{\"colorbar\":{\"outlinewidth\":0,\"ticks\":\"\"}},\"type\":\"scatterpolargl\"}],\"scatterternary\":[{\"marker\":{\"colorbar\":{\"outlinewidth\":0,\"ticks\":\"\"}},\"type\":\"scatterternary\"}],\"surface\":[{\"colorbar\":{\"outlinewidth\":0,\"ticks\":\"\"},\"colorscale\":[[0.0,\"#0d0887\"],[0.1111111111111111,\"#46039f\"],[0.2222222222222222,\"#7201a8\"],[0.3333333333333333,\"#9c179e\"],[0.4444444444444444,\"#bd3786\"],[0.5555555555555556,\"#d8576b\"],[0.6666666666666666,\"#ed7953\"],[0.7777777777777778,\"#fb9f3a\"],[0.8888888888888888,\"#fdca26\"],[1.0,\"#f0f921\"]],\"type\":\"surface\"}],\"table\":[{\"cells\":{\"fill\":{\"color\":\"#EBF0F8\"},\"line\":{\"color\":\"white\"}},\"header\":{\"fill\":{\"color\":\"#C8D4E3\"},\"line\":{\"color\":\"white\"}},\"type\":\"table\"}]},\"layout\":{\"annotationdefaults\":{\"arrowcolor\":\"#2a3f5f\",\"arrowhead\":0,\"arrowwidth\":1},\"autotypenumbers\":\"strict\",\"coloraxis\":{\"colorbar\":{\"outlinewidth\":0,\"ticks\":\"\"}},\"colorscale\":{\"diverging\":[[0,\"#8e0152\"],[0.1,\"#c51b7d\"],[0.2,\"#de77ae\"],[0.3,\"#f1b6da\"],[0.4,\"#fde0ef\"],[0.5,\"#f7f7f7\"],[0.6,\"#e6f5d0\"],[0.7,\"#b8e186\"],[0.8,\"#7fbc41\"],[0.9,\"#4d9221\"],[1,\"#276419\"]],\"sequential\":[[0.0,\"#0d0887\"],[0.1111111111111111,\"#46039f\"],[0.2222222222222222,\"#7201a8\"],[0.3333333333333333,\"#9c179e\"],[0.4444444444444444,\"#bd3786\"],[0.5555555555555556,\"#d8576b\"],[0.6666666666666666,\"#ed7953\"],[0.7777777777777778,\"#fb9f3a\"],[0.8888888888888888,\"#fdca26\"],[1.0,\"#f0f921\"]],\"sequentialminus\":[[0.0,\"#0d0887\"],[0.1111111111111111,\"#46039f\"],[0.2222222222222222,\"#7201a8\"],[0.3333333333333333,\"#9c179e\"],[0.4444444444444444,\"#bd3786\"],[0.5555555555555556,\"#d8576b\"],[0.6666666666666666,\"#ed7953\"],[0.7777777777777778,\"#fb9f3a\"],[0.8888888888888888,\"#fdca26\"],[1.0,\"#f0f921\"]]},\"colorway\":[\"#636efa\",\"#EF553B\",\"#00cc96\",\"#ab63fa\",\"#FFA15A\",\"#19d3f3\",\"#FF6692\",\"#B6E880\",\"#FF97FF\",\"#FECB52\"],\"font\":{\"color\":\"#2a3f5f\"},\"geo\":{\"bgcolor\":\"white\",\"lakecolor\":\"white\",\"landcolor\":\"#E5ECF6\",\"showlakes\":true,\"showland\":true,\"subunitcolor\":\"white\"},\"hoverlabel\":{\"align\":\"left\"},\"hovermode\":\"closest\",\"mapbox\":{\"style\":\"light\"},\"paper_bgcolor\":\"white\",\"plot_bgcolor\":\"#E5ECF6\",\"polar\":{\"angularaxis\":{\"gridcolor\":\"white\",\"linecolor\":\"white\",\"ticks\":\"\"},\"bgcolor\":\"#E5ECF6\",\"radialaxis\":{\"gridcolor\":\"white\",\"linecolor\":\"white\",\"ticks\":\"\"}},\"scene\":{\"xaxis\":{\"backgroundcolor\":\"#E5ECF6\",\"gridcolor\":\"white\",\"gridwidth\":2,\"linecolor\":\"white\",\"showbackground\":true,\"ticks\":\"\",\"zerolinecolor\":\"white\"},\"yaxis\":{\"backgroundcolor\":\"#E5ECF6\",\"gridcolor\":\"white\",\"gridwidth\":2,\"linecolor\":\"white\",\"showbackground\":true,\"ticks\":\"\",\"zerolinecolor\":\"white\"},\"zaxis\":{\"backgroundcolor\":\"#E5ECF6\",\"gridcolor\":\"white\",\"gridwidth\":2,\"linecolor\":\"white\",\"showbackground\":true,\"ticks\":\"\",\"zerolinecolor\":\"white\"}},\"shapedefaults\":{\"line\":{\"color\":\"#2a3f5f\"}},\"ternary\":{\"aaxis\":{\"gridcolor\":\"white\",\"linecolor\":\"white\",\"ticks\":\"\"},\"baxis\":{\"gridcolor\":\"white\",\"linecolor\":\"white\",\"ticks\":\"\"},\"bgcolor\":\"#E5ECF6\",\"caxis\":{\"gridcolor\":\"white\",\"linecolor\":\"white\",\"ticks\":\"\"}},\"title\":{\"x\":0.05},\"xaxis\":{\"automargin\":true,\"gridcolor\":\"white\",\"linecolor\":\"white\",\"ticks\":\"\",\"title\":{\"standoff\":15},\"zerolinecolor\":\"white\",\"zerolinewidth\":2},\"yaxis\":{\"automargin\":true,\"gridcolor\":\"white\",\"linecolor\":\"white\",\"ticks\":\"\",\"title\":{\"standoff\":15},\"zerolinecolor\":\"white\",\"zerolinewidth\":2}}},\"title\":{\"text\":\"Average Sale Price Per Square Foot and Gross Rent in San Francisco\"},\"width\":700},                        {\"responsive\": true}                    ).then(function(){\n",
       "                            \n",
       "var gd = document.getElementById('88df78a0-0cdd-4615-9c5b-948b1b6e7370');\n",
       "var x = new MutationObserver(function (mutations, observer) {{\n",
       "        var display = window.getComputedStyle(gd).display;\n",
       "        if (!display || display === 'none') {{\n",
       "            console.log([gd, 'removed!']);\n",
       "            Plotly.purge(gd);\n",
       "            observer.disconnect();\n",
       "        }}\n",
       "}});\n",
       "\n",
       "// Listen for the removal of the full notebook cells\n",
       "var notebookContainer = gd.closest('#notebook-container');\n",
       "if (notebookContainer) {{\n",
       "    x.observe(notebookContainer, {childList: true});\n",
       "}}\n",
       "\n",
       "// Listen for the clearing of the current output cell\n",
       "var outputEl = gd.closest('.output');\n",
       "if (outputEl) {{\n",
       "    x.observe(outputEl, {childList: true});\n",
       "}}\n",
       "\n",
       "                        })                };                });            </script>        </div>"
      ]
     },
     "metadata": {},
     "output_type": "display_data"
    }
   ],
   "source": [
    "# Create a scatter mapbox to analyze neighborhood info\n",
    "px.scatter_mapbox(\n",
    "    all_neighborhoods_df,\n",
    "    lat=\"Lat\",\n",
    "    lon=\"Lon\",\n",
    "    size=\"sale_price_sqr_foot\",\n",
    "    color=\"gross_rent\",\n",
    "    size_max=25,\n",
    "    zoom=11,\n",
    "    title=\"Average Sale Price Per Square Foot and Gross Rent in San Francisco\",\n",
    "    height=700,\n",
    "    width=700\n",
    ")\n"
   ]
  },
  {
   "cell_type": "markdown",
   "metadata": {},
   "source": [
    "### Step 7: Use the interactive map to answer the following question:"
   ]
  },
  {
   "cell_type": "markdown",
   "metadata": {},
   "source": [
    "**Question** Which neighborhood has the highest gross rent, and which has the highest sale price per square foot?\n",
    "\n",
    "**Answer** The neighborhood with the highest gross rent is Westwood Park at 3959, while the one with the highest sale price per square foot is Union Square Disctrict at 903.993258."
   ]
  },
  {
   "cell_type": "markdown",
   "metadata": {},
   "source": [
    "## Compose Your Data Story\n",
    "\n",
    "Based on the visualizations that you have created, compose a data story that synthesizes your analysis by answering the following questions:"
   ]
  },
  {
   "cell_type": "markdown",
   "metadata": {},
   "source": [
    "**Question**  How does the trend in rental income growth compare to the trend in sales prices? Does this same trend hold true for all the neighborhoods across San Francisco?\n",
    "\n",
    "**Answer** # The average sale price per square foot of housing units over the years presented has shown different trends in different neighborhoods throughout San Francisco, with some growing slowly, others staying approximately the same, and still others decreasing slightly. However, the gross rent trend is similar across the board, all growing, and at a vastly greater rate than the sale prices.\n"
   ]
  },
  {
   "cell_type": "markdown",
   "metadata": {},
   "source": [
    "**Question** What insights can you share with your company about the potential one-click, buy-and-rent strategy that they're pursuing? Do neighborhoods exist that you would suggest for investment, and why?\n",
    "\n",
    "**Answer** Based on the dramatic differences in growth between sale per square foot and gross rent in San Francisco, I believe this would be a highly profitable strategy to pursue. I would recommend neighborhoods that show a decreasing trend in sale price per square foot such as Alamo Square, Anza Vista, and Hayes Valley, as this would capitalize on opportunities of decreasing purchase price with increasing rental rates."
   ]
  },
  {
   "cell_type": "code",
   "execution_count": null,
   "metadata": {},
   "outputs": [],
   "source": []
  }
 ],
 "metadata": {
  "file_extension": ".py",
  "kernelspec": {
   "display_name": "Python 3",
   "language": "python",
   "name": "python3"
  },
  "language_info": {
   "codemirror_mode": {
    "name": "ipython",
    "version": 3
   },
   "file_extension": ".py",
   "mimetype": "text/x-python",
   "name": "python",
   "nbconvert_exporter": "python",
   "pygments_lexer": "ipython3",
   "version": "3.8.8"
  },
  "mimetype": "text/x-python",
  "name": "python",
  "npconvert_exporter": "python",
  "pygments_lexer": "ipython3",
  "version": 3
 },
 "nbformat": 4,
 "nbformat_minor": 4
}
